{
 "cells": [
  {
   "cell_type": "markdown",
   "id": "df52ea65",
   "metadata": {},
   "source": [
    "STATELESS Streaming\n",
    "\n",
    ". Connect to kafka topic: time series + simulated mean drift\n",
    "\n",
    ". Function CUSUM:\n",
    "\n",
    "    - Setting:\n",
    "        - warm-up window length\n",
    "        - delta: sensitivity to changes\n",
    "\n",
    "    - Initialize (WARM-UP period): \n",
    "        - x_mean: recursive mean \n",
    "        - x_std: recursive standard deviation\n",
    "\n",
    "    - Compute z-score: \n",
    "        z = (x_i - x_mean)/ x_std\n",
    "\n",
    "    - Compute POSITIVE/NEGATIVE CUSUM:\n",
    "        - POS_S = max(0, POS_S + z - delta)\n",
    "        - NEG_S = max(0, NEG_S + z - delta)\n",
    "\n",
    "\n",
    "\n"
   ]
  }
 ],
 "metadata": {
  "language_info": {
   "name": "python"
  }
 },
 "nbformat": 4,
 "nbformat_minor": 5
}
