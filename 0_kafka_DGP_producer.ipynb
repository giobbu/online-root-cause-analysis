{
 "cells": [
  {
   "cell_type": "markdown",
   "id": "66f714fc",
   "metadata": {},
   "source": [
    "## Simulated Data Generating Process (DGP)\n",
    "\n",
    "Sensor 1, 2, and 3\n",
    "\n",
    "For $t<T_1$:\n",
    "\n",
    "* y_1 ~ N(mu_1, sigma_1)\n",
    "* y_2 ~ N(mu_2, sigma_2)\n",
    "* y_3 ~ N(mu_3, sigma_3)\n",
    "\n",
    "For $t>=T_1$:\n",
    "\n",
    "* y_1 ~ N(mu_11, sigma_1) -> Mean Drift!\n",
    "* y_2 ~ N(mu_2, sigma_2)\n",
    "* y_3 ~ N(mu_3, sigma_3)\n",
    "\n",
    "For $t>=T_2$:\n",
    "\n",
    "* y_1 ~ N(mu_11, sigma_1) -> Mean Drift (started at $T_1$)\n",
    "* y_2 ~ N(mu_2, sigma_2)\n",
    "* y_3 ~ N(mu_33, sigma_3) -> Mean Drift!\n"
   ]
  }
 ],
 "metadata": {
  "language_info": {
   "name": "python"
  }
 },
 "nbformat": 4,
 "nbformat_minor": 5
}
