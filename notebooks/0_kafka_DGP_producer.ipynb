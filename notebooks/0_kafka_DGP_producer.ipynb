{
 "cells": [
  {
   "cell_type": "markdown",
   "id": "66f714fc",
   "metadata": {},
   "source": [
    "## Simulated Data Generating Process (DGP)\n",
    "\n",
    "Sensor 1, 2, and 3\n",
    "\n",
    "For $t<T_1$:\n",
    "\n",
    "* y_1 ~ N(mu_1, sigma_1)\n",
    "* y_2 ~ N(mu_2, sigma_2)\n",
    "* y_3 ~ N(mu_3, sigma_3)\n",
    "\n",
    "For $t>=T_1$:\n",
    "\n",
    "* y_1 ~ N(mu_11, sigma_1) -> Mean Drift!\n",
    "* y_2 ~ N(mu_2, sigma_2)\n",
    "* y_3 ~ N(mu_3, sigma_3)\n",
    "\n",
    "For $t>=T_2$:\n",
    "\n",
    "* y_1 ~ N(mu_11, sigma_1) -> Mean Drift (started at $T_1$)\n",
    "* y_2 ~ N(mu_2, sigma_2)\n",
    "* y_3 ~ N(mu_33, sigma_3) -> Mean Drift!\n"
   ]
  }
 ],
 "metadata": {
  "kernelspec": {
   "display_name": "Python 3 (ipykernel)",
   "language": "python",
   "name": "python3"
  },
  "language_info": {
   "codemirror_mode": {
    "name": "ipython",
    "version": 3
   },
   "file_extension": ".py",
   "mimetype": "text/x-python",
   "name": "python",
   "nbconvert_exporter": "python",
   "pygments_lexer": "ipython3",
   "version": "3.12.7"
  }
 },
 "nbformat": 4,
 "nbformat_minor": 5
}
