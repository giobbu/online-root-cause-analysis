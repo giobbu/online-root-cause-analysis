{
 "cells": [
  {
   "cell_type": "markdown",
   "id": "66f714fc",
   "metadata": {},
   "source": [
    "## Simulated Data Generating Process (DGP)\n",
    "\n",
    "Sensor n° 1, 2, and 3\n",
    "\n",
    "For $t<T_1$:\n",
    "\n",
    "* y_1 ~ N(mu_1, sigma_1)\n",
    "* y_2 ~ N(mu_2, sigma_2)\n",
    "* y_3 ~ N(mu_3, sigma_3)\n",
    "\n",
    "For $t>=T_1$:\n",
    "\n",
    "* y_1 ~ N(mu_11, sigma_1) -> Mean Drift!\n",
    "* y_2 ~ N(mu_2, sigma_2)\n",
    "* y_3 ~ N(mu_3, sigma_3)\n",
    "\n",
    "For $t>=T_2$:\n",
    "\n",
    "* y_1 ~ N(mu_11, sigma_1) -> Mean Drift (started at $T_1$)\n",
    "* y_2 ~ N(mu_2, sigma_2)\n",
    "* y_3 ~ N(mu_33, sigma_3) -> Mean Drift!\n"
   ]
  },
  {
   "cell_type": "code",
   "execution_count": null,
   "id": "52f6557a-717b-43d7-8f97-d87dafdcfe65",
   "metadata": {},
   "outputs": [],
   "source": [
    "from kafka import KafkaProducer\n",
    "import time\n",
    "import json\n",
    "import numpy as np\n",
    "import random"
   ]
  },
  {
   "cell_type": "code",
   "execution_count": null,
   "id": "8242786e-1d6c-4f79-97bb-9b4056f88c2e",
   "metadata": {},
   "outputs": [],
   "source": [
    "from dataclasses import dataclass\n",
    "\n",
    "@dataclass\n",
    "class SensorParams:\n",
    "    sensor_name: str\n",
    "    mu: float\n",
    "    sigma: float\n",
    "    eps: float\n",
    "    delay_mode: str  # \"fix\" or \"random\"\n",
    "    delay_value: float\n",
    "    max_delay: float = None  # Optional for \"random\" delay mode"
   ]
  },
  {
   "cell_type": "code",
   "execution_count": null,
   "id": "bda658b6-7224-4f02-8042-c7786672de1c",
   "metadata": {},
   "outputs": [],
   "source": [
    "# Configurations\n",
    "SEED=42\n",
    "i=0\n",
    "params_sens1 = SensorParams(sensor_name=\"sensor-1\",\n",
    "                            mu=2,\n",
    "                            sigma=5,\n",
    "                            eps=0.2,\n",
    "                            delay_mode=\"random\",\n",
    "                            delay_value=1,\n",
    "                            max_delay=5)"
   ]
  },
  {
   "cell_type": "code",
   "execution_count": null,
   "id": "761c5ea4-facc-455c-89f1-04db88b17400",
   "metadata": {},
   "outputs": [],
   "source": [
    "def send_sensor_data(producer, topic, params=SensorParams):\n",
    "    start_time=time.time()\n",
    "    noise=params.eps * np.random.normal(0, 1)\n",
    "    data_value=np.random.normal(params.mu, params.sigma, 1)[0] + noise\n",
    "    data_sent={'sensor': params.sensor_name, 'value': data_value}\n",
    "    producer.send(topic, value=data_sent)\n",
    "    if params.delay_mode == \"fix\":\n",
    "        time.sleep(params.delay_value)\n",
    "    elif params.delay_mode == \"random\":\n",
    "        if params.max_delay is None:\n",
    "            raise ValueError(\"max_delay should be specified in delay_mode 'random'\")\n",
    "        time.sleep(random.uniform(params.delay_value, params.max_delay))\n",
    "    else:\n",
    "        raise ValueError(\"delay_mode should be 'fix' or 'random'\")\n",
    "    end_time=time.time() - start_time\n",
    "    return data_value, end_time"
   ]
  },
  {
   "cell_type": "code",
   "execution_count": null,
   "id": "ed88263c-aa2f-4e07-8401-1234140e4daa",
   "metadata": {},
   "outputs": [],
   "source": [
    "producer = KafkaProducer(bootstrap_servers='localhost:9092', \n",
    "                         value_serializer=lambda v: json.dumps(v).encode('utf-8'))\n",
    "producer"
   ]
  },
  {
   "cell_type": "code",
   "execution_count": null,
   "id": "ce200da2-face-4d2e-b3be-92a290372a4f",
   "metadata": {},
   "outputs": [],
   "source": [
    "np.random.seed(SEED)\n",
    "\n",
    "list_sensobs_1 = []\n",
    "list_delay_1 = []\n",
    "\n",
    "for i in range(10):\n",
    "\n",
    "    print(\"--\"*20)\n",
    "    print(f\"Time step {i}\")\n",
    "    print(\" \")\n",
    "    \n",
    "    # Sensor 1\n",
    "    data1, time_end_sens_1 = send_sensor_data(producer=producer, \n",
    "                                              topic=\"sensors\", \n",
    "                                              params=params_sens1)\n",
    "\n",
    "    list_sensobs_1.append(data1)\n",
    "    list_delay_1.append(time_end_sens_1)\n",
    "\n",
    "    print(f\"[sensor-1] Sent: {data1}\")\n",
    "    print(\" \")\n",
    "    print(f\"[sensor-1] Delay: {time_end_sens_1}\")\n",
    "    print(f\"Total Delay: {time_end_sens_1}\")\n"
   ]
  },
  {
   "cell_type": "code",
   "execution_count": null,
   "id": "9d791e87-93b3-40af-9a86-92f77390d01d",
   "metadata": {},
   "outputs": [],
   "source": [
    "import matplotlib.pyplot as plt\n",
    "\n",
    "plt.hist(list_delay_1, alpha=0.5, label=\"sensor-1\", color=\"red\", bins=50)\n",
    "plt.title(\"Histogram of Delays\")\n",
    "plt.legend()\n",
    "plt.show()"
   ]
  }
 ],
 "metadata": {
  "kernelspec": {
   "display_name": "Python 3 (ipykernel)",
   "language": "python",
   "name": "python3"
  },
  "language_info": {
   "codemirror_mode": {
    "name": "ipython",
    "version": 3
   },
   "file_extension": ".py",
   "mimetype": "text/x-python",
   "name": "python",
   "nbconvert_exporter": "python",
   "pygments_lexer": "ipython3",
   "version": "3.12.7"
  }
 },
 "nbformat": 4,
 "nbformat_minor": 5
}
