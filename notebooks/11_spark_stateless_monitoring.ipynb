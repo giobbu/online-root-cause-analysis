{
 "cells": [
  {
   "cell_type": "markdown",
   "id": "82137510",
   "metadata": {},
   "source": [
    "## Baseline receiver stateless monitoring "
   ]
  },
  {
   "cell_type": "code",
   "execution_count": null,
   "id": "d34ea4b6-47b0-4d8b-af86-20804850195c",
   "metadata": {},
   "outputs": [],
   "source": [
    "import os\n",
    "\n",
    "os.environ[\"PYSPARK_SUBMIT_ARGS\"] = (\n",
    "    \"--packages \"\n",
    "    \"org.apache.spark:spark-sql-kafka-0-10_2.12:3.5.6,\"\n",
    "    \"org.apache.spark:spark-streaming-kafka-0-10_2.12:3.5.6 \"\n",
    "    \"pyspark-shell\"\n",
    ")"
   ]
  },
  {
   "cell_type": "code",
   "execution_count": 2,
   "id": "33d89bfc-8adb-4ff4-8dfc-7a8ef3a075ed",
   "metadata": {},
   "outputs": [
    {
     "name": "stdout",
     "output_type": "stream",
     "text": [
      ":: loading settings :: url = jar:file:/home/guest/spark/jars/ivy-2.5.1.jar!/org/apache/ivy/core/settings/ivysettings.xml\n"
     ]
    },
    {
     "name": "stderr",
     "output_type": "stream",
     "text": [
      "Ivy Default Cache set to: /home/guest/.ivy2/cache\n",
      "The jars for the packages stored in: /home/guest/.ivy2/jars\n",
      "org.apache.spark#spark-sql-kafka-0-10_2.12 added as a dependency\n",
      "org.apache.spark#spark-streaming-kafka-0-10_2.12 added as a dependency\n",
      ":: resolving dependencies :: org.apache.spark#spark-submit-parent-25ad5303-e9ca-4b25-b50d-4aefe5e7dca0;1.0\n",
      "\tconfs: [default]\n",
      "\tfound org.apache.spark#spark-sql-kafka-0-10_2.12;3.5.6 in central\n",
      "\tfound org.apache.spark#spark-token-provider-kafka-0-10_2.12;3.5.6 in central\n",
      "\tfound org.apache.kafka#kafka-clients;3.4.1 in central\n",
      "\tfound org.lz4#lz4-java;1.8.0 in central\n",
      "\tfound org.xerial.snappy#snappy-java;1.1.10.5 in central\n",
      "\tfound org.slf4j#slf4j-api;2.0.7 in central\n",
      "\tfound org.apache.hadoop#hadoop-client-runtime;3.3.4 in central\n",
      "\tfound org.apache.hadoop#hadoop-client-api;3.3.4 in central\n",
      "\tfound commons-logging#commons-logging;1.1.3 in central\n",
      "\tfound com.google.code.findbugs#jsr305;3.0.0 in central\n",
      "\tfound org.apache.commons#commons-pool2;2.11.1 in central\n",
      "\tfound org.apache.spark#spark-streaming-kafka-0-10_2.12;3.5.6 in central\n",
      ":: resolution report :: resolve 292ms :: artifacts dl 5ms\n",
      "\t:: modules in use:\n",
      "\tcom.google.code.findbugs#jsr305;3.0.0 from central in [default]\n",
      "\tcommons-logging#commons-logging;1.1.3 from central in [default]\n",
      "\torg.apache.commons#commons-pool2;2.11.1 from central in [default]\n",
      "\torg.apache.hadoop#hadoop-client-api;3.3.4 from central in [default]\n",
      "\torg.apache.hadoop#hadoop-client-runtime;3.3.4 from central in [default]\n",
      "\torg.apache.kafka#kafka-clients;3.4.1 from central in [default]\n",
      "\torg.apache.spark#spark-sql-kafka-0-10_2.12;3.5.6 from central in [default]\n",
      "\torg.apache.spark#spark-streaming-kafka-0-10_2.12;3.5.6 from central in [default]\n",
      "\torg.apache.spark#spark-token-provider-kafka-0-10_2.12;3.5.6 from central in [default]\n",
      "\torg.lz4#lz4-java;1.8.0 from central in [default]\n",
      "\torg.slf4j#slf4j-api;2.0.7 from central in [default]\n",
      "\torg.xerial.snappy#snappy-java;1.1.10.5 from central in [default]\n",
      "\t---------------------------------------------------------------------\n",
      "\t|                  |            modules            ||   artifacts   |\n",
      "\t|       conf       | number| search|dwnlded|evicted|| number|dwnlded|\n",
      "\t---------------------------------------------------------------------\n",
      "\t|      default     |   12  |   0   |   0   |   0   ||   12  |   0   |\n",
      "\t---------------------------------------------------------------------\n",
      ":: retrieving :: org.apache.spark#spark-submit-parent-25ad5303-e9ca-4b25-b50d-4aefe5e7dca0\n",
      "\tconfs: [default]\n",
      "\t0 artifacts copied, 12 already retrieved (0kB/6ms)\n",
      "25/06/20 12:50:41 WARN NativeCodeLoader: Unable to load native-hadoop library for your platform... using builtin-java classes where applicable\n",
      "Setting default log level to \"WARN\".\n",
      "To adjust logging level use sc.setLogLevel(newLevel). For SparkR, use setLogLevel(newLevel).\n",
      "25/06/20 12:50:42 WARN Utils: Service 'SparkUI' could not bind on port 4040. Attempting port 4041.\n",
      "25/06/20 12:50:42 WARN Utils: Service 'SparkUI' could not bind on port 4041. Attempting port 4042.\n"
     ]
    }
   ],
   "source": [
    "from pyspark.sql import SparkSession\n",
    "\n",
    "spark = SparkSession.builder \\\n",
    "        .appName(\"read_test_straeam\") \\\n",
    "        .getOrCreate()"
   ]
  },
  {
   "cell_type": "code",
   "execution_count": 3,
   "id": "e858b1ae-a663-4d5f-9d71-098a46bda47e",
   "metadata": {},
   "outputs": [],
   "source": [
    "from pyspark.sql.functions import from_json, col\n",
    "from pyspark.sql.types import StructType, StructField, StringType\n",
    "\n",
    "KAFKA_BOOTSTRAP_SERVERS = \"127.0.0.1:9092\"\n",
    "KAFKA_TOPIC = \"sensors\"\n",
    "\n",
    "\n",
    "schema = StructType().add(\"sensor\", StringType())\\\n",
    "                     .add(\"info\", StructType()\\\n",
    "                          .add(\"timestamp_sent\", StringType())\\\n",
    "                          .add(\"timestamp_received\", StringType())\\\n",
    "                          .add(\"obs\", StringType())\\\n",
    "                          .add(\"drift\", StringType()))\n",
    "\n",
    "df = spark \\\n",
    "  .readStream \\\n",
    "  .format(\"kafka\") \\\n",
    "  .option(\"kafka.bootstrap.servers\", KAFKA_BOOTSTRAP_SERVERS) \\\n",
    "  .option(\"subscribe\", KAFKA_TOPIC) \\\n",
    "  .option(\"startingOffsets\", \"earliest\") \\\n",
    "  .load()\\\n",
    "  .select(from_json(col(\"value\").cast(\"string\"), schema).alias(\"parsed_value\"))\\\n",
    "            .select(col(\"parsed_value.sensor\"), \\\n",
    "                    col(\"parsed_value.info.timestamp_sent\"),\\\n",
    "                    col(\"parsed_value.info.timestamp_received\"),\\\n",
    "                    col(\"parsed_value.info.obs\"),\\\n",
    "                    col(\"parsed_value.info.drift\"))"
   ]
  },
  {
   "cell_type": "code",
   "execution_count": 4,
   "id": "69cde0ac-0327-4046-bb43-0b8061b30cc3",
   "metadata": {},
   "outputs": [
    {
     "name": "stdout",
     "output_type": "stream",
     "text": [
      "root\n",
      " |-- sensor: string (nullable = true)\n",
      " |-- timestamp_sent: string (nullable = true)\n",
      " |-- timestamp_received: string (nullable = true)\n",
      " |-- obs: string (nullable = true)\n",
      " |-- drift: string (nullable = true)\n",
      "\n"
     ]
    }
   ],
   "source": [
    "df.printSchema()"
   ]
  },
  {
   "cell_type": "code",
   "execution_count": 11,
   "id": "6678d5a8-d3c1-432c-844d-0b5a3638e00c",
   "metadata": {},
   "outputs": [
    {
     "ename": "PySparkTypeError",
     "evalue": "[NOT_ITERABLE] Column is not iterable.",
     "output_type": "error",
     "traceback": [
      "\u001b[0;31m---------------------------------------------------------------------------\u001b[0m",
      "\u001b[0;31mPySparkTypeError\u001b[0m                          Traceback (most recent call last)",
      "Cell \u001b[0;32mIn[11], line 9\u001b[0m\n\u001b[1;32m      1\u001b[0m \u001b[38;5;28;01mfrom\u001b[39;00m \u001b[38;5;21;01mpyspark\u001b[39;00m\u001b[38;5;21;01m.\u001b[39;00m\u001b[38;5;21;01msql\u001b[39;00m\u001b[38;5;21;01m.\u001b[39;00m\u001b[38;5;21;01mfunctions\u001b[39;00m \u001b[38;5;28;01mimport\u001b[39;00m window, avg, count, desc, std, \u001b[38;5;28mmin\u001b[39m, \u001b[38;5;28mmax\u001b[39m, isnull, col\n\u001b[1;32m      3\u001b[0m eventAvg \u001b[38;5;241m=\u001b[39m df\u001b[38;5;241m.\u001b[39mgroupBy(window(df\u001b[38;5;241m.\u001b[39mtimestamp_received, \u001b[38;5;124m\"\u001b[39m\u001b[38;5;124m30 minutes\u001b[39m\u001b[38;5;124m\"\u001b[39m), df\u001b[38;5;241m.\u001b[39msensor)\\\n\u001b[1;32m      4\u001b[0m                             \u001b[38;5;241m.\u001b[39magg(count(\u001b[38;5;124m\"\u001b[39m\u001b[38;5;124mobs\u001b[39m\u001b[38;5;124m\"\u001b[39m)\u001b[38;5;241m.\u001b[39malias(\u001b[38;5;124m\"\u001b[39m\u001b[38;5;124mcount_obs\u001b[39m\u001b[38;5;124m\"\u001b[39m), \\\n\u001b[1;32m      5\u001b[0m                                  avg(\u001b[38;5;124m\"\u001b[39m\u001b[38;5;124mobs\u001b[39m\u001b[38;5;124m\"\u001b[39m)\u001b[38;5;241m.\u001b[39malias(\u001b[38;5;124m\"\u001b[39m\u001b[38;5;124mavg_obs\u001b[39m\u001b[38;5;124m\"\u001b[39m), \\\n\u001b[1;32m      6\u001b[0m                                  std(\u001b[38;5;124m\"\u001b[39m\u001b[38;5;124mobs\u001b[39m\u001b[38;5;124m\"\u001b[39m)\u001b[38;5;241m.\u001b[39malias(\u001b[38;5;124m\"\u001b[39m\u001b[38;5;124m+/-std_obs\u001b[39m\u001b[38;5;124m\"\u001b[39m), \\\n\u001b[1;32m      7\u001b[0m                                  \u001b[38;5;28mmax\u001b[39m(\u001b[38;5;124m\"\u001b[39m\u001b[38;5;124mobs\u001b[39m\u001b[38;5;124m\"\u001b[39m)\u001b[38;5;241m.\u001b[39malias(\u001b[38;5;124m\"\u001b[39m\u001b[38;5;124mmax_obs\u001b[39m\u001b[38;5;124m\"\u001b[39m), \\\n\u001b[1;32m      8\u001b[0m                                  \u001b[38;5;28mmin\u001b[39m(\u001b[38;5;124m\"\u001b[39m\u001b[38;5;124mobs\u001b[39m\u001b[38;5;124m\"\u001b[39m)\u001b[38;5;241m.\u001b[39malias(\u001b[38;5;124m\"\u001b[39m\u001b[38;5;124mmin_obs\u001b[39m\u001b[38;5;124m\"\u001b[39m))\\\n\u001b[0;32m----> 9\u001b[0m                             \u001b[38;5;241m.\u001b[39mselect(\u001b[38;5;28msum\u001b[39m(isnull(col(\u001b[38;5;124m\"\u001b[39m\u001b[38;5;124mobs\u001b[39m\u001b[38;5;124m\"\u001b[39m))\u001b[38;5;241m.\u001b[39mcast(\u001b[38;5;124m\"\u001b[39m\u001b[38;5;124mint\u001b[39m\u001b[38;5;124m\"\u001b[39m))\u001b[38;5;241m.\u001b[39malias(\u001b[38;5;124m\"\u001b[39m\u001b[38;5;124msum_miss_obs\u001b[39m\u001b[38;5;124m\"\u001b[39m))\\\n\u001b[1;32m     10\u001b[0m                             \u001b[38;5;241m.\u001b[39msort(desc(\u001b[38;5;124m\"\u001b[39m\u001b[38;5;124mwindow\u001b[39m\u001b[38;5;124m\"\u001b[39m))\n",
      "File \u001b[0;32m~/spark/python/pyspark/sql/column.py:718\u001b[0m, in \u001b[0;36mColumn.__iter__\u001b[0;34m(self)\u001b[0m\n\u001b[1;32m    717\u001b[0m \u001b[38;5;28;01mdef\u001b[39;00m \u001b[38;5;21m__iter__\u001b[39m(\u001b[38;5;28mself\u001b[39m) \u001b[38;5;241m-\u001b[39m\u001b[38;5;241m>\u001b[39m \u001b[38;5;28;01mNone\u001b[39;00m:\n\u001b[0;32m--> 718\u001b[0m     \u001b[38;5;28;01mraise\u001b[39;00m PySparkTypeError(\n\u001b[1;32m    719\u001b[0m         error_class\u001b[38;5;241m=\u001b[39m\u001b[38;5;124m\"\u001b[39m\u001b[38;5;124mNOT_ITERABLE\u001b[39m\u001b[38;5;124m\"\u001b[39m, message_parameters\u001b[38;5;241m=\u001b[39m{\u001b[38;5;124m\"\u001b[39m\u001b[38;5;124mobjectName\u001b[39m\u001b[38;5;124m\"\u001b[39m: \u001b[38;5;124m\"\u001b[39m\u001b[38;5;124mColumn\u001b[39m\u001b[38;5;124m\"\u001b[39m}\n\u001b[1;32m    720\u001b[0m     )\n",
      "\u001b[0;31mPySparkTypeError\u001b[0m: [NOT_ITERABLE] Column is not iterable."
     ]
    }
   ],
   "source": [
    "from pyspark.sql.functions import window, avg, count, desc, stddev, min, max, isnull, col, sum, isnan\n",
    "\n",
    "eventAvg = df.groupBy(\n",
    "    window(df.timestamp_received, \"30 minutes\"),\n",
    "    df.sensor\n",
    ").agg(\n",
    "    count(\"obs\").alias(\"count_obs\"),\n",
    "    avg(\"obs\").alias(\"avg_obs\"),\n",
    "    stddev(\"obs\").alias(\"+/-std_obs\"),\n",
    "    max(\"obs\").alias(\"max_obs\"),\n",
    "    min(\"obs\").alias(\"min_obs\"),\n",
    "    sum((isnull(\"obs\") | isnan(\"obs\")).cast(\"int\")).alias(\"sum_miss_obs\")\n",
    ").sort(desc(\"window\"))"
   ]
  },
  {
   "cell_type": "code",
   "execution_count": null,
   "id": "75a24654-8548-4f91-9ddb-67cdb84a7763",
   "metadata": {},
   "outputs": [],
   "source": [
    "results = eventAvg.writeStream \\\n",
    "         .outputMode('complete')\\\n",
    "         .format(\"console\") \\\n",
    "         .start() \\\n",
    "         .awaitTermination()"
   ]
  },
  {
   "cell_type": "code",
   "execution_count": null,
   "id": "7defb8fa-fc9d-4237-a6c7-674c49bc9e5e",
   "metadata": {},
   "outputs": [],
   "source": [
    "results.stop()"
   ]
  }
 ],
 "metadata": {
  "kernelspec": {
   "display_name": "Python 3 (ipykernel)",
   "language": "python",
   "name": "python3"
  },
  "language_info": {
   "codemirror_mode": {
    "name": "ipython",
    "version": 3
   },
   "file_extension": ".py",
   "mimetype": "text/x-python",
   "name": "python",
   "nbconvert_exporter": "python",
   "pygments_lexer": "ipython3",
   "version": "3.12.7"
  }
 },
 "nbformat": 4,
 "nbformat_minor": 5
}
