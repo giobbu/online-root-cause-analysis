{
 "cells": [
  {
   "cell_type": "markdown",
   "id": "82137510",
   "metadata": {},
   "source": [
    "## Baseline receiver stateless monitoring "
   ]
  },
  {
   "cell_type": "code",
   "execution_count": 1,
   "id": "d34ea4b6-47b0-4d8b-af86-20804850195c",
   "metadata": {},
   "outputs": [],
   "source": [
    "import os\n",
    "\n",
    "os.environ[\"PYSPARK_SUBMIT_ARGS\"] = (\n",
    "    \"--packages \"\n",
    "    \"org.apache.spark:spark-sql-kafka-0-10_2.12:3.5.6,\"\n",
    "    \"org.apache.spark:spark-streaming-kafka-0-10_2.12:3.5.6 \"\n",
    "    \"pyspark-shell\"\n",
    ")"
   ]
  },
  {
   "cell_type": "code",
   "execution_count": 2,
   "id": "33d89bfc-8adb-4ff4-8dfc-7a8ef3a075ed",
   "metadata": {},
   "outputs": [
    {
     "name": "stdout",
     "output_type": "stream",
     "text": [
      ":: loading settings :: url = jar:file:/home/guest/spark/jars/ivy-2.5.1.jar!/org/apache/ivy/core/settings/ivysettings.xml\n"
     ]
    },
    {
     "name": "stderr",
     "output_type": "stream",
     "text": [
      "Ivy Default Cache set to: /home/guest/.ivy2/cache\n",
      "The jars for the packages stored in: /home/guest/.ivy2/jars\n",
      "org.apache.spark#spark-sql-kafka-0-10_2.12 added as a dependency\n",
      "org.apache.spark#spark-streaming-kafka-0-10_2.12 added as a dependency\n",
      ":: resolving dependencies :: org.apache.spark#spark-submit-parent-2f18f364-bf11-423e-82da-d04c2eeb2333;1.0\n",
      "\tconfs: [default]\n",
      "\tfound org.apache.spark#spark-sql-kafka-0-10_2.12;3.5.6 in central\n",
      "\tfound org.apache.spark#spark-token-provider-kafka-0-10_2.12;3.5.6 in central\n",
      "\tfound org.apache.kafka#kafka-clients;3.4.1 in central\n",
      "\tfound org.lz4#lz4-java;1.8.0 in central\n",
      "\tfound org.xerial.snappy#snappy-java;1.1.10.5 in central\n",
      "\tfound org.slf4j#slf4j-api;2.0.7 in central\n",
      "\tfound org.apache.hadoop#hadoop-client-runtime;3.3.4 in central\n",
      "\tfound org.apache.hadoop#hadoop-client-api;3.3.4 in central\n",
      "\tfound commons-logging#commons-logging;1.1.3 in central\n",
      "\tfound com.google.code.findbugs#jsr305;3.0.0 in central\n",
      "\tfound org.apache.commons#commons-pool2;2.11.1 in central\n",
      "\tfound org.apache.spark#spark-streaming-kafka-0-10_2.12;3.5.6 in central\n",
      ":: resolution report :: resolve 182ms :: artifacts dl 4ms\n",
      "\t:: modules in use:\n",
      "\tcom.google.code.findbugs#jsr305;3.0.0 from central in [default]\n",
      "\tcommons-logging#commons-logging;1.1.3 from central in [default]\n",
      "\torg.apache.commons#commons-pool2;2.11.1 from central in [default]\n",
      "\torg.apache.hadoop#hadoop-client-api;3.3.4 from central in [default]\n",
      "\torg.apache.hadoop#hadoop-client-runtime;3.3.4 from central in [default]\n",
      "\torg.apache.kafka#kafka-clients;3.4.1 from central in [default]\n",
      "\torg.apache.spark#spark-sql-kafka-0-10_2.12;3.5.6 from central in [default]\n",
      "\torg.apache.spark#spark-streaming-kafka-0-10_2.12;3.5.6 from central in [default]\n",
      "\torg.apache.spark#spark-token-provider-kafka-0-10_2.12;3.5.6 from central in [default]\n",
      "\torg.lz4#lz4-java;1.8.0 from central in [default]\n",
      "\torg.slf4j#slf4j-api;2.0.7 from central in [default]\n",
      "\torg.xerial.snappy#snappy-java;1.1.10.5 from central in [default]\n",
      "\t---------------------------------------------------------------------\n",
      "\t|                  |            modules            ||   artifacts   |\n",
      "\t|       conf       | number| search|dwnlded|evicted|| number|dwnlded|\n",
      "\t---------------------------------------------------------------------\n",
      "\t|      default     |   12  |   0   |   0   |   0   ||   12  |   0   |\n",
      "\t---------------------------------------------------------------------\n",
      ":: retrieving :: org.apache.spark#spark-submit-parent-2f18f364-bf11-423e-82da-d04c2eeb2333\n",
      "\tconfs: [default]\n",
      "\t0 artifacts copied, 12 already retrieved (0kB/4ms)\n",
      "25/07/04 12:30:06 WARN NativeCodeLoader: Unable to load native-hadoop library for your platform... using builtin-java classes where applicable\n",
      "Setting default log level to \"WARN\".\n",
      "To adjust logging level use sc.setLogLevel(newLevel). For SparkR, use setLogLevel(newLevel).\n"
     ]
    }
   ],
   "source": [
    "from pyspark.sql import SparkSession\n",
    "\n",
    "spark = SparkSession.builder \\\n",
    "        .appName(\"read_test_stream\") \\\n",
    "        .getOrCreate()"
   ]
  },
  {
   "cell_type": "code",
   "execution_count": 3,
   "id": "e858b1ae-a663-4d5f-9d71-098a46bda47e",
   "metadata": {},
   "outputs": [],
   "source": [
    "from pyspark.sql.functions import from_json, col\n",
    "from pyspark.sql.types import StructType, StructField, StringType\n",
    "\n",
    "KAFKA_BOOTSTRAP_SERVERS = \"127.0.0.1:9092\"\n",
    "KAFKA_TOPIC = \"sensors\"\n",
    "\n",
    "\n",
    "schema = StructType().add(\"sensor\", StringType())\\\n",
    "                     .add(\"info\", StructType()\\\n",
    "                          .add(\"timestamp_sent\", StringType())\\\n",
    "                          .add(\"timestamp_received\", StringType())\\\n",
    "                          .add(\"obs\", StringType())\\\n",
    "                          .add(\"drift\", StringType()))\n",
    "\n",
    "df = spark \\\n",
    "      .readStream \\\n",
    "      .format(\"kafka\") \\\n",
    "      .option(\"kafka.bootstrap.servers\", KAFKA_BOOTSTRAP_SERVERS) \\\n",
    "      .option(\"subscribe\", KAFKA_TOPIC) \\\n",
    "      .option(\"startingOffsets\", \"earliest\") \\\n",
    "      .load()\\\n",
    "      .select(from_json(col(\"value\").cast(\"string\"), schema).alias(\"parsed_value\"))\\\n",
    "                .select(col(\"parsed_value.sensor\"), \\\n",
    "                        col(\"parsed_value.info.timestamp_sent\"),\\\n",
    "                        col(\"parsed_value.info.timestamp_received\"),\\\n",
    "                        col(\"parsed_value.info.obs\"),\\\n",
    "                        col(\"parsed_value.info.drift\"))"
   ]
  },
  {
   "cell_type": "code",
   "execution_count": 4,
   "id": "efb48b41-546c-4fff-ae5c-621745970b5d",
   "metadata": {},
   "outputs": [
    {
     "name": "stdout",
     "output_type": "stream",
     "text": [
      "root\n",
      " |-- sensor: string (nullable = true)\n",
      " |-- timestamp_sent: string (nullable = true)\n",
      " |-- timestamp_received: string (nullable = true)\n",
      " |-- obs: string (nullable = true)\n",
      " |-- drift: string (nullable = true)\n",
      "\n"
     ]
    }
   ],
   "source": [
    "df.printSchema()"
   ]
  },
  {
   "cell_type": "code",
   "execution_count": 5,
   "id": "6a26fb0e-237a-4f8d-bf36-a49723474383",
   "metadata": {},
   "outputs": [],
   "source": [
    "WATERMARK_SIZE=\"1 minute\"\n",
    "WINDOW_SIZE=\"1 minute\""
   ]
  },
  {
   "cell_type": "code",
   "execution_count": 6,
   "id": "1eb19a6c-f9c1-43a8-b5ba-c7ac1dd3f4ec",
   "metadata": {},
   "outputs": [],
   "source": [
    "from pyspark.sql.functions import to_timestamp, to_utc_timestamp\n",
    "\n",
    "df = df.withColumn(\"timestamp_received\", to_timestamp(\"timestamp_received\")) \\\n",
    "       .withColumn(\"timestamp_sent\", to_timestamp(\"timestamp_sent\")) \\\n",
    "       .withColumn(\"timestamp_received\", to_utc_timestamp(\"timestamp_received\", \"Europe/Rome\")) \\\n",
    "       .withColumn(\"timestamp_sent\", to_utc_timestamp(\"timestamp_sent\", \"Europe/Rome\")) \\\n",
    "       .withColumn(\"time_diff\", (col(\"timestamp_received\").cast(\"double\") - col(\"timestamp_sent\").cast(\"double\")))\\\n",
    "\n",
    "df = df.withWatermark(\"timestamp_sent\", WATERMARK_SIZE)"
   ]
  },
  {
   "cell_type": "markdown",
   "id": "eac1cc02-bc5d-4a55-bb1e-5961efb93246",
   "metadata": {},
   "source": [
    "## PARAMETERS PROCESS-IN-CONTROL "
   ]
  },
  {
   "cell_type": "code",
   "execution_count": 7,
   "id": "3168b4b9-c54c-4ad9-a9a5-ce04a9ddeefb",
   "metadata": {},
   "outputs": [],
   "source": [
    "S1_MEAN = 2\n",
    "S1_STD = 3\n",
    "\n",
    "S2_MEAN = 3.5\n",
    "S2_STD = 3\n",
    "\n",
    "S3_MEAN = 1\n",
    "S3_STD = 3"
   ]
  },
  {
   "cell_type": "code",
   "execution_count": 8,
   "id": "163ce3ca-abe0-4253-bf4e-2cd858955001",
   "metadata": {},
   "outputs": [],
   "source": [
    "WARN_LEVEL = 2.5\n",
    "ALARM_LEVEL = 3"
   ]
  },
  {
   "cell_type": "code",
   "execution_count": 9,
   "id": "e19671c3-344e-4515-82ef-55b13bafe3c9",
   "metadata": {},
   "outputs": [],
   "source": [
    "from pyspark.sql.functions import udf\n",
    "from pyspark.sql.types import IntegerType\n",
    "\n",
    "@udf(IntegerType())\n",
    "def is_out_control(sensor, avg_val):\n",
    "    \" UDF for SPC rules\"\n",
    "    thresholds = {\n",
    "        \"sensor-1\": (S1_MEAN, S1_STD),\n",
    "        \"sensor-2\": (S2_MEAN, S2_STD),\n",
    "        \"sensor-3\": (S3_MEAN, S3_STD),\n",
    "    }\n",
    "    if sensor not in thresholds or avg_val is None:\n",
    "        return False   \n",
    "    mean, std = thresholds[sensor]\n",
    "    # WARNING LEVEL\n",
    "    upper_warn =  mean + WARN_LEVEL * std\n",
    "    lower_warn = mean - WARN_LEVEL * std\n",
    "    # ALARM LEVEL\n",
    "    upper_alarm =  mean + ALARM_LEVEL * std\n",
    "    lower_alarm = mean - ALARM_LEVEL * std\n",
    "    state = 0\n",
    "    if avg_val > upper_alarm or avg_val < lower_alarm:\n",
    "        return 2 \n",
    "    elif avg_val > upper_warn or avg_val < lower_warn:\n",
    "        return 1\n",
    "    return state"
   ]
  },
  {
   "cell_type": "code",
   "execution_count": 10,
   "id": "6678d5a8-d3c1-432c-844d-0b5a3638e00c",
   "metadata": {},
   "outputs": [],
   "source": [
    "from pyspark.sql.functions import window, avg, count, desc, stddev, min, max\n",
    "from pyspark.sql.functions import isnull, col, sum, isnan, unix_timestamp, round\n",
    "from pyspark.sql.functions import date_format, when, lit\n",
    "\n",
    "eventSensors = df.groupBy(window(df.timestamp_sent, WINDOW_SIZE), df.sensor)\\\n",
    "    .agg(\n",
    "        count(\"obs\").alias(\"count\"),\n",
    "        round(avg(\"obs\"), 3).alias(\"avg\"),\n",
    "        round(stddev(\"obs\"), 3).alias(\"std\"),\n",
    "        round(max(\"obs\"), 3).alias(\"max\"),\n",
    "        round(min(\"obs\"), 3).alias(\"min\"),\n",
    "        round((max(\"obs\") - min(\"obs\")), 3).alias(\"range\"),\n",
    "        round(sum((isnull(\"obs\") | isnan(\"obs\")).cast(\"int\")), 3).alias(\"count_miss\"),\n",
    "        round(max(\"time_diff\"), 3).alias(\"max_delay\"))\\\n",
    "        .withColumn(\"is_out_control\", is_out_control(col(\"sensor\"), col(\"avg\"))) \\\n",
    "        .withColumn(\"window_start\", col(\"window.start\")) \\\n",
    "        .withColumn(\"window_end\", col(\"window.end\"))\\\n",
    "        .withColumn(\"date\", date_format(col(\"window_start\"), \"dd\"))\\\n",
    "        .withColumn(\"hour\", date_format(col(\"window_start\"), \"HH\"))\\\n",
    "        .drop(\"window\")"
   ]
  },
  {
   "cell_type": "code",
   "execution_count": null,
   "id": "e06584a4-1474-4a6c-9c0f-6e7c7dd34b16",
   "metadata": {},
   "outputs": [
    {
     "name": "stderr",
     "output_type": "stream",
     "text": [
      "25/07/04 12:30:07 WARN ResolveWriteToStream: spark.sql.adaptive.enabled is not supported in streaming DataFrames/Datasets and will be disabled.\n",
      "25/07/04 12:30:07 WARN AdminClientConfig: These configurations '[key.deserializer, value.deserializer, enable.auto.commit, max.poll.records, auto.offset.reset]' were supplied but are not used yet.\n",
      "[Stage 33:=========================>                            (95 + 10) / 200]\r"
     ]
    }
   ],
   "source": [
    "streaming = eventSensors.writeStream \\\n",
    "        .outputMode(\"append\") \\\n",
    "        .format(\"csv\") \\\n",
    "        .option(\"path\", \"/home/guest/notebooks/data/output/\") \\\n",
    "        .option(\"checkpointLocation\", \"/home/guest/notebooks/data/checkpoints\") \\\n",
    "        .option(\"header\", \"true\") \\\n",
    "        .partitionBy(\"date\", \"hour\") \\\n",
    "        .start() \\\n",
    "        .awaitTermination()\n",
    "#"
   ]
  },
  {
   "cell_type": "code",
   "execution_count": null,
   "id": "c49a9575-686a-48d1-839d-c401e458ccc1",
   "metadata": {},
   "outputs": [],
   "source": [
    "streaming.stop()"
   ]
  },
  {
   "cell_type": "markdown",
   "id": "6373c04b-3296-4bc0-9fe5-e007dad92f41",
   "metadata": {},
   "source": [
    "## Coalesce"
   ]
  },
  {
   "cell_type": "code",
   "execution_count": null,
   "id": "9e040723-c968-4f16-bebb-ce058b1d92ca",
   "metadata": {},
   "outputs": [],
   "source": [
    "final_df = spark.read.csv(\"/home/guest/notebooks/data/output/day=*/hour=*\", header=True, inferSchema=True)\n",
    "final_df.take(5)"
   ]
  },
  {
   "cell_type": "code",
   "execution_count": null,
   "id": "405b8705-d0da-4392-b97c-dcfc75d3056f",
   "metadata": {},
   "outputs": [],
   "source": [
    "final_df.orderBy(col(\"window_start\").asc()).coalesce(1).write \\\n",
    "    .option(\"header\", \"true\") \\\n",
    "    .mode(\"overwrite\") \\\n",
    "    .csv(\"/home/guest/notebooks/final_output/\")"
   ]
  }
 ],
 "metadata": {
  "kernelspec": {
   "display_name": "Python 3 (ipykernel)",
   "language": "python",
   "name": "python3"
  },
  "language_info": {
   "codemirror_mode": {
    "name": "ipython",
    "version": 3
   },
   "file_extension": ".py",
   "mimetype": "text/x-python",
   "name": "python",
   "nbconvert_exporter": "python",
   "pygments_lexer": "ipython3",
   "version": "3.12.7"
  }
 },
 "nbformat": 4,
 "nbformat_minor": 5
}
