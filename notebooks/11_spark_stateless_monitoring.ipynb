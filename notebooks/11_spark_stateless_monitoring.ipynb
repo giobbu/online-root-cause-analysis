{
 "cells": [
  {
   "cell_type": "markdown",
   "id": "82137510",
   "metadata": {},
   "source": [
    "## Baseline receiver stateless monitoring "
   ]
  },
  {
   "cell_type": "code",
   "execution_count": null,
   "id": "d34ea4b6-47b0-4d8b-af86-20804850195c",
   "metadata": {},
   "outputs": [],
   "source": [
    "import os\n",
    "\n",
    "os.environ[\"PYSPARK_SUBMIT_ARGS\"] = (\n",
    "    \"--packages \"\n",
    "    \"org.apache.spark:spark-sql-kafka-0-10_2.12:3.5.6,\"\n",
    "    \"org.apache.spark:spark-streaming-kafka-0-10_2.12:3.5.6 \"\n",
    "    \"pyspark-shell\"\n",
    ")"
   ]
  },
  {
   "cell_type": "code",
   "execution_count": 2,
   "id": "33d89bfc-8adb-4ff4-8dfc-7a8ef3a075ed",
   "metadata": {},
   "outputs": [
    {
     "name": "stdout",
     "output_type": "stream",
     "text": [
      ":: loading settings :: url = jar:file:/home/guest/spark/jars/ivy-2.5.1.jar!/org/apache/ivy/core/settings/ivysettings.xml\n"
     ]
    },
    {
     "name": "stderr",
     "output_type": "stream",
     "text": [
      "Ivy Default Cache set to: /home/guest/.ivy2/cache\n",
      "The jars for the packages stored in: /home/guest/.ivy2/jars\n",
      "org.apache.spark#spark-sql-kafka-0-10_2.12 added as a dependency\n",
      "org.apache.spark#spark-streaming-kafka-0-10_2.12 added as a dependency\n",
      ":: resolving dependencies :: org.apache.spark#spark-submit-parent-c92bf183-98fb-4d6f-a44b-e69a9dfddac9;1.0\n",
      "\tconfs: [default]\n",
      "\tfound org.apache.spark#spark-sql-kafka-0-10_2.12;3.5.6 in central\n",
      "\tfound org.apache.spark#spark-token-provider-kafka-0-10_2.12;3.5.6 in central\n",
      "\tfound org.apache.kafka#kafka-clients;3.4.1 in central\n",
      "\tfound org.lz4#lz4-java;1.8.0 in central\n",
      "\tfound org.xerial.snappy#snappy-java;1.1.10.5 in central\n",
      "\tfound org.slf4j#slf4j-api;2.0.7 in central\n",
      "\tfound org.apache.hadoop#hadoop-client-runtime;3.3.4 in central\n",
      "\tfound org.apache.hadoop#hadoop-client-api;3.3.4 in central\n",
      "\tfound commons-logging#commons-logging;1.1.3 in central\n",
      "\tfound com.google.code.findbugs#jsr305;3.0.0 in central\n",
      "\tfound org.apache.commons#commons-pool2;2.11.1 in central\n",
      "\tfound org.apache.spark#spark-streaming-kafka-0-10_2.12;3.5.6 in central\n",
      ":: resolution report :: resolve 178ms :: artifacts dl 7ms\n",
      "\t:: modules in use:\n",
      "\tcom.google.code.findbugs#jsr305;3.0.0 from central in [default]\n",
      "\tcommons-logging#commons-logging;1.1.3 from central in [default]\n",
      "\torg.apache.commons#commons-pool2;2.11.1 from central in [default]\n",
      "\torg.apache.hadoop#hadoop-client-api;3.3.4 from central in [default]\n",
      "\torg.apache.hadoop#hadoop-client-runtime;3.3.4 from central in [default]\n",
      "\torg.apache.kafka#kafka-clients;3.4.1 from central in [default]\n",
      "\torg.apache.spark#spark-sql-kafka-0-10_2.12;3.5.6 from central in [default]\n",
      "\torg.apache.spark#spark-streaming-kafka-0-10_2.12;3.5.6 from central in [default]\n",
      "\torg.apache.spark#spark-token-provider-kafka-0-10_2.12;3.5.6 from central in [default]\n",
      "\torg.lz4#lz4-java;1.8.0 from central in [default]\n",
      "\torg.slf4j#slf4j-api;2.0.7 from central in [default]\n",
      "\torg.xerial.snappy#snappy-java;1.1.10.5 from central in [default]\n",
      "\t---------------------------------------------------------------------\n",
      "\t|                  |            modules            ||   artifacts   |\n",
      "\t|       conf       | number| search|dwnlded|evicted|| number|dwnlded|\n",
      "\t---------------------------------------------------------------------\n",
      "\t|      default     |   12  |   0   |   0   |   0   ||   12  |   0   |\n",
      "\t---------------------------------------------------------------------\n",
      ":: retrieving :: org.apache.spark#spark-submit-parent-c92bf183-98fb-4d6f-a44b-e69a9dfddac9\n",
      "\tconfs: [default]\n",
      "\t0 artifacts copied, 12 already retrieved (0kB/4ms)\n",
      "25/07/01 14:49:09 WARN NativeCodeLoader: Unable to load native-hadoop library for your platform... using builtin-java classes where applicable\n",
      "Setting default log level to \"WARN\".\n",
      "To adjust logging level use sc.setLogLevel(newLevel). For SparkR, use setLogLevel(newLevel).\n"
     ]
    }
   ],
   "source": [
    "from pyspark.sql import SparkSession\n",
    "\n",
    "spark = SparkSession.builder \\\n",
    "        .appName(\"read_test_stream\") \\\n",
    "        .getOrCreate()"
   ]
  },
  {
   "cell_type": "code",
   "execution_count": 3,
   "id": "e858b1ae-a663-4d5f-9d71-098a46bda47e",
   "metadata": {},
   "outputs": [],
   "source": [
    "from pyspark.sql.functions import from_json, col\n",
    "from pyspark.sql.types import StructType, StructField, StringType\n",
    "\n",
    "KAFKA_BOOTSTRAP_SERVERS = \"127.0.0.1:9092\"\n",
    "KAFKA_TOPIC = \"sensors\"\n",
    "\n",
    "\n",
    "schema = StructType().add(\"sensor\", StringType())\\\n",
    "                     .add(\"info\", StructType()\\\n",
    "                          .add(\"timestamp_sent\", StringType())\\\n",
    "                          .add(\"timestamp_received\", StringType())\\\n",
    "                          .add(\"obs\", StringType())\\\n",
    "                          .add(\"drift\", StringType()))\n",
    "\n",
    "df = spark \\\n",
    "      .readStream \\\n",
    "      .format(\"kafka\") \\\n",
    "      .option(\"kafka.bootstrap.servers\", KAFKA_BOOTSTRAP_SERVERS) \\\n",
    "      .option(\"subscribe\", KAFKA_TOPIC) \\\n",
    "      .option(\"startingOffsets\", \"earliest\") \\\n",
    "      .load()\\\n",
    "      .select(from_json(col(\"value\").cast(\"string\"), schema).alias(\"parsed_value\"))\\\n",
    "                .select(col(\"parsed_value.sensor\"), \\\n",
    "                        col(\"parsed_value.info.timestamp_sent\"),\\\n",
    "                        col(\"parsed_value.info.timestamp_received\"),\\\n",
    "                        col(\"parsed_value.info.obs\"),\\\n",
    "                        col(\"parsed_value.info.drift\"))"
   ]
  },
  {
   "cell_type": "code",
   "execution_count": 4,
   "id": "efb48b41-546c-4fff-ae5c-621745970b5d",
   "metadata": {},
   "outputs": [
    {
     "name": "stdout",
     "output_type": "stream",
     "text": [
      "root\n",
      " |-- sensor: string (nullable = true)\n",
      " |-- timestamp_sent: string (nullable = true)\n",
      " |-- timestamp_received: string (nullable = true)\n",
      " |-- obs: string (nullable = true)\n",
      " |-- drift: string (nullable = true)\n",
      "\n"
     ]
    }
   ],
   "source": [
    "df.printSchema()"
   ]
  },
  {
   "cell_type": "code",
   "execution_count": 5,
   "id": "6a26fb0e-237a-4f8d-bf36-a49723474383",
   "metadata": {},
   "outputs": [],
   "source": [
    "WATERMARK_SIZE=\"1 minute\"\n",
    "WINDOW_SIZE=\"1 minute\""
   ]
  },
  {
   "cell_type": "code",
   "execution_count": 6,
   "id": "1eb19a6c-f9c1-43a8-b5ba-c7ac1dd3f4ec",
   "metadata": {},
   "outputs": [],
   "source": [
    "from pyspark.sql.functions import to_timestamp, to_utc_timestamp\n",
    "\n",
    "df = df.withColumn(\"timestamp_received\", to_timestamp(\"timestamp_received\")) \\\n",
    "       .withColumn(\"timestamp_sent\", to_timestamp(\"timestamp_sent\")) \\\n",
    "       .withColumn(\"timestamp_received\", to_utc_timestamp(\"timestamp_received\", \"Europe/Rome\")) \\\n",
    "       .withColumn(\"timestamp_sent\", to_utc_timestamp(\"timestamp_sent\", \"Europe/Rome\")) \\\n",
    "       .withColumn(\"time_diff\", (col(\"timestamp_received\").cast(\"double\") - col(\"timestamp_sent\").cast(\"double\")))\\\n",
    "\n",
    "df = df.withWatermark(\"timestamp_sent\", WATERMARK_SIZE)"
   ]
  },
  {
   "cell_type": "markdown",
   "id": "98ce7cff-144f-429f-8994-2b6dc87168d6",
   "metadata": {},
   "source": [
    "## PARAMETERS PROCESS-IN-CONTROL "
   ]
  },
  {
   "cell_type": "code",
   "execution_count": 7,
   "id": "3168b4b9-c54c-4ad9-a9a5-ce04a9ddeefb",
   "metadata": {},
   "outputs": [],
   "source": [
    "S1_MEAN = 2\n",
    "S1_STD = 3\n",
    "\n",
    "S2_MEAN = 3.5\n",
    "S2_STD = 3\n",
    "\n",
    "S3_MEAN = 1\n",
    "S3_STD = 3"
   ]
  },
  {
   "cell_type": "code",
   "execution_count": 8,
   "id": "163ce3ca-abe0-4253-bf4e-2cd858955001",
   "metadata": {},
   "outputs": [],
   "source": [
    "WARNING_LEVEL = 2\n",
    "OUT_OF_CONTROL_LEVEL = 3"
   ]
  },
  {
   "cell_type": "code",
   "execution_count": 9,
   "id": "6678d5a8-d3c1-432c-844d-0b5a3638e00c",
   "metadata": {},
   "outputs": [],
   "source": [
    "from pyspark.sql.functions import window, avg, count, desc, stddev, min, max, isnull, col, sum, isnan, unix_timestamp, round\n",
    "from pyspark.sql.functions import date_format, when, lit\n",
    "\n",
    "eventSensors = df.groupBy(window(df.timestamp_sent, WINDOW_SIZE), df.sensor)\\\n",
    "    .agg(\n",
    "        count(\"obs\").alias(\"count\"),\n",
    "        round(avg(\"obs\"), 3).alias(\"avg\"),\n",
    "        round(stddev(\"obs\"), 3).alias(\"std\"),\n",
    "        round(max(\"obs\"), 3).alias(\"max\"),\n",
    "        round(min(\"obs\"), 3).alias(\"min\"),\n",
    "        round((max(\"obs\") - min(\"obs\")), 3).alias(\"range\"),\n",
    "        round(sum((isnull(\"obs\") | isnan(\"obs\")).cast(\"int\")), 3).alias(\"count_miss\"),\n",
    "        round(max(\"time_diff\"), 3).alias(\"max_delay\"),\n",
    "\n",
    "        # Statistical-Process-Control Rules\n",
    "        when(\n",
    "            (col(\"sensor\") == \"sensor-1\") &\n",
    "            (\n",
    "                (avg(\"obs\") > (lit(S1_MEAN) + lit(OUT_OF_CONTROL_LEVEL) * lit(S1_STD))) |\n",
    "                (avg(\"obs\") < (lit(S1_MEAN) - lit(OUT_OF_CONTROL_LEVEL) * lit(S1_STD)))\n",
    "            ), True\n",
    "        ).when(\n",
    "            (col(\"sensor\") == \"sensor-2\") &\n",
    "            (\n",
    "                (avg(\"obs\") > (lit(S2_MEAN) + lit(OUT_OF_CONTROL_LEVEL) * lit(S2_STD))) |\n",
    "                (avg(\"obs\") < (lit(S2_MEAN) - lit(OUT_OF_CONTROL_LEVEL) * lit(S2_STD)))\n",
    "            ), True\n",
    "        ).when(\n",
    "            (col(\"sensor\") == \"sensor-3\") &\n",
    "            (\n",
    "                (avg(\"obs\") > (lit(S3_MEAN) + lit(OUT_OF_CONTROL_LEVEL) * lit(S3_STD))) |\n",
    "                (avg(\"obs\") < (lit(S3_MEAN) - lit(OUT_OF_CONTROL_LEVEL) * lit(S3_STD)))\n",
    "            ), True\n",
    "        ).otherwise(False).alias(\"out_of_control\")\n",
    "    )\\\n",
    "    .withColumn(\"window_start\", col(\"window.start\")) \\\n",
    "    .withColumn(\"window_end\", col(\"window.end\"))\\\n",
    "    .withColumn(\"date\", date_format(col(\"window_start\"), \"dd\"))\\\n",
    "    .withColumn(\"hour\", date_format(col(\"window_start\"), \"HH\"))\\\n",
    "    .drop(\"window\")"
   ]
  },
  {
   "cell_type": "code",
   "execution_count": 10,
   "id": "e06584a4-1474-4a6c-9c0f-6e7c7dd34b16",
   "metadata": {},
   "outputs": [
    {
     "name": "stderr",
     "output_type": "stream",
     "text": [
      "25/07/01 14:49:11 WARN ResolveWriteToStream: spark.sql.adaptive.enabled is not supported in streaming DataFrames/Datasets and will be disabled.\n",
      "25/07/01 14:49:11 WARN AdminClientConfig: These configurations '[key.deserializer, value.deserializer, enable.auto.commit, max.poll.records, auto.offset.reset]' were supplied but are not used yet.\n",
      "ERROR:root:KeyboardInterrupt while sending command.                             \n",
      "Traceback (most recent call last):\n",
      "  File \"/home/guest/spark/python/lib/py4j-0.10.9.7-src.zip/py4j/java_gateway.py\", line 1038, in send_command\n",
      "    response = connection.send_command(command)\n",
      "               ^^^^^^^^^^^^^^^^^^^^^^^^^^^^^^^^\n",
      "  File \"/home/guest/spark/python/lib/py4j-0.10.9.7-src.zip/py4j/clientserver.py\", line 511, in send_command\n",
      "    answer = smart_decode(self.stream.readline()[:-1])\n",
      "                          ^^^^^^^^^^^^^^^^^^^^^^\n",
      "  File \"/home/guest/anaconda3/lib/python3.12/socket.py\", line 720, in readinto\n",
      "    return self._sock.recv_into(b)\n",
      "           ^^^^^^^^^^^^^^^^^^^^^^^\n",
      "KeyboardInterrupt\n"
     ]
    },
    {
     "ename": "KeyboardInterrupt",
     "evalue": "",
     "output_type": "error",
     "traceback": [
      "\u001b[0;31m---------------------------------------------------------------------------\u001b[0m",
      "\u001b[0;31mKeyboardInterrupt\u001b[0m                         Traceback (most recent call last)",
      "Cell \u001b[0;32mIn[10], line 9\u001b[0m\n\u001b[1;32m      1\u001b[0m streaming \u001b[38;5;241m=\u001b[39m eventSensors\u001b[38;5;241m.\u001b[39mwriteStream \\\n\u001b[1;32m      2\u001b[0m         \u001b[38;5;241m.\u001b[39moutputMode(\u001b[38;5;124m\"\u001b[39m\u001b[38;5;124mappend\u001b[39m\u001b[38;5;124m\"\u001b[39m) \\\n\u001b[1;32m      3\u001b[0m         \u001b[38;5;241m.\u001b[39mformat(\u001b[38;5;124m\"\u001b[39m\u001b[38;5;124mcsv\u001b[39m\u001b[38;5;124m\"\u001b[39m) \\\n\u001b[1;32m      4\u001b[0m         \u001b[38;5;241m.\u001b[39moption(\u001b[38;5;124m\"\u001b[39m\u001b[38;5;124mpath\u001b[39m\u001b[38;5;124m\"\u001b[39m, \u001b[38;5;124m\"\u001b[39m\u001b[38;5;124m/home/guest/notebooks/data/output/\u001b[39m\u001b[38;5;124m\"\u001b[39m) \\\n\u001b[1;32m      5\u001b[0m         \u001b[38;5;241m.\u001b[39moption(\u001b[38;5;124m\"\u001b[39m\u001b[38;5;124mcheckpointLocation\u001b[39m\u001b[38;5;124m\"\u001b[39m, \u001b[38;5;124m\"\u001b[39m\u001b[38;5;124m/home/guest/notebooks/data/checkpoints\u001b[39m\u001b[38;5;124m\"\u001b[39m) \\\n\u001b[1;32m      6\u001b[0m         \u001b[38;5;241m.\u001b[39moption(\u001b[38;5;124m\"\u001b[39m\u001b[38;5;124mheader\u001b[39m\u001b[38;5;124m\"\u001b[39m, \u001b[38;5;124m\"\u001b[39m\u001b[38;5;124mtrue\u001b[39m\u001b[38;5;124m\"\u001b[39m) \\\n\u001b[1;32m      7\u001b[0m         \u001b[38;5;241m.\u001b[39mpartitionBy(\u001b[38;5;124m\"\u001b[39m\u001b[38;5;124mdate\u001b[39m\u001b[38;5;124m\"\u001b[39m, \u001b[38;5;124m\"\u001b[39m\u001b[38;5;124mhour\u001b[39m\u001b[38;5;124m\"\u001b[39m) \\\n\u001b[1;32m      8\u001b[0m         \u001b[38;5;241m.\u001b[39mstart() \\\n\u001b[0;32m----> 9\u001b[0m         \u001b[38;5;241m.\u001b[39mawaitTermination()\n",
      "File \u001b[0;32m~/spark/python/pyspark/sql/streaming/query.py:221\u001b[0m, in \u001b[0;36mStreamingQuery.awaitTermination\u001b[0;34m(self, timeout)\u001b[0m\n\u001b[1;32m    219\u001b[0m     \u001b[38;5;28;01mreturn\u001b[39;00m \u001b[38;5;28mself\u001b[39m\u001b[38;5;241m.\u001b[39m_jsq\u001b[38;5;241m.\u001b[39mawaitTermination(\u001b[38;5;28mint\u001b[39m(timeout \u001b[38;5;241m*\u001b[39m \u001b[38;5;241m1000\u001b[39m))\n\u001b[1;32m    220\u001b[0m \u001b[38;5;28;01melse\u001b[39;00m:\n\u001b[0;32m--> 221\u001b[0m     \u001b[38;5;28;01mreturn\u001b[39;00m \u001b[38;5;28mself\u001b[39m\u001b[38;5;241m.\u001b[39m_jsq\u001b[38;5;241m.\u001b[39mawaitTermination()\n",
      "File \u001b[0;32m~/spark/python/lib/py4j-0.10.9.7-src.zip/py4j/java_gateway.py:1321\u001b[0m, in \u001b[0;36mJavaMember.__call__\u001b[0;34m(self, *args)\u001b[0m\n\u001b[1;32m   1314\u001b[0m args_command, temp_args \u001b[38;5;241m=\u001b[39m \u001b[38;5;28mself\u001b[39m\u001b[38;5;241m.\u001b[39m_build_args(\u001b[38;5;241m*\u001b[39margs)\n\u001b[1;32m   1316\u001b[0m command \u001b[38;5;241m=\u001b[39m proto\u001b[38;5;241m.\u001b[39mCALL_COMMAND_NAME \u001b[38;5;241m+\u001b[39m\\\n\u001b[1;32m   1317\u001b[0m     \u001b[38;5;28mself\u001b[39m\u001b[38;5;241m.\u001b[39mcommand_header \u001b[38;5;241m+\u001b[39m\\\n\u001b[1;32m   1318\u001b[0m     args_command \u001b[38;5;241m+\u001b[39m\\\n\u001b[1;32m   1319\u001b[0m     proto\u001b[38;5;241m.\u001b[39mEND_COMMAND_PART\n\u001b[0;32m-> 1321\u001b[0m answer \u001b[38;5;241m=\u001b[39m \u001b[38;5;28mself\u001b[39m\u001b[38;5;241m.\u001b[39mgateway_client\u001b[38;5;241m.\u001b[39msend_command(command)\n\u001b[1;32m   1322\u001b[0m return_value \u001b[38;5;241m=\u001b[39m get_return_value(\n\u001b[1;32m   1323\u001b[0m     answer, \u001b[38;5;28mself\u001b[39m\u001b[38;5;241m.\u001b[39mgateway_client, \u001b[38;5;28mself\u001b[39m\u001b[38;5;241m.\u001b[39mtarget_id, \u001b[38;5;28mself\u001b[39m\u001b[38;5;241m.\u001b[39mname)\n\u001b[1;32m   1325\u001b[0m \u001b[38;5;28;01mfor\u001b[39;00m temp_arg \u001b[38;5;129;01min\u001b[39;00m temp_args:\n",
      "File \u001b[0;32m~/spark/python/lib/py4j-0.10.9.7-src.zip/py4j/java_gateway.py:1038\u001b[0m, in \u001b[0;36mGatewayClient.send_command\u001b[0;34m(self, command, retry, binary)\u001b[0m\n\u001b[1;32m   1036\u001b[0m connection \u001b[38;5;241m=\u001b[39m \u001b[38;5;28mself\u001b[39m\u001b[38;5;241m.\u001b[39m_get_connection()\n\u001b[1;32m   1037\u001b[0m \u001b[38;5;28;01mtry\u001b[39;00m:\n\u001b[0;32m-> 1038\u001b[0m     response \u001b[38;5;241m=\u001b[39m connection\u001b[38;5;241m.\u001b[39msend_command(command)\n\u001b[1;32m   1039\u001b[0m     \u001b[38;5;28;01mif\u001b[39;00m binary:\n\u001b[1;32m   1040\u001b[0m         \u001b[38;5;28;01mreturn\u001b[39;00m response, \u001b[38;5;28mself\u001b[39m\u001b[38;5;241m.\u001b[39m_create_connection_guard(connection)\n",
      "File \u001b[0;32m~/spark/python/lib/py4j-0.10.9.7-src.zip/py4j/clientserver.py:511\u001b[0m, in \u001b[0;36mClientServerConnection.send_command\u001b[0;34m(self, command)\u001b[0m\n\u001b[1;32m    509\u001b[0m \u001b[38;5;28;01mtry\u001b[39;00m:\n\u001b[1;32m    510\u001b[0m     \u001b[38;5;28;01mwhile\u001b[39;00m \u001b[38;5;28;01mTrue\u001b[39;00m:\n\u001b[0;32m--> 511\u001b[0m         answer \u001b[38;5;241m=\u001b[39m smart_decode(\u001b[38;5;28mself\u001b[39m\u001b[38;5;241m.\u001b[39mstream\u001b[38;5;241m.\u001b[39mreadline()[:\u001b[38;5;241m-\u001b[39m\u001b[38;5;241m1\u001b[39m])\n\u001b[1;32m    512\u001b[0m         logger\u001b[38;5;241m.\u001b[39mdebug(\u001b[38;5;124m\"\u001b[39m\u001b[38;5;124mAnswer received: \u001b[39m\u001b[38;5;132;01m{0}\u001b[39;00m\u001b[38;5;124m\"\u001b[39m\u001b[38;5;241m.\u001b[39mformat(answer))\n\u001b[1;32m    513\u001b[0m         \u001b[38;5;66;03m# Happens when a the other end is dead. There might be an empty\u001b[39;00m\n\u001b[1;32m    514\u001b[0m         \u001b[38;5;66;03m# answer before the socket raises an error.\u001b[39;00m\n",
      "File \u001b[0;32m~/anaconda3/lib/python3.12/socket.py:720\u001b[0m, in \u001b[0;36mSocketIO.readinto\u001b[0;34m(self, b)\u001b[0m\n\u001b[1;32m    718\u001b[0m \u001b[38;5;28;01mwhile\u001b[39;00m \u001b[38;5;28;01mTrue\u001b[39;00m:\n\u001b[1;32m    719\u001b[0m     \u001b[38;5;28;01mtry\u001b[39;00m:\n\u001b[0;32m--> 720\u001b[0m         \u001b[38;5;28;01mreturn\u001b[39;00m \u001b[38;5;28mself\u001b[39m\u001b[38;5;241m.\u001b[39m_sock\u001b[38;5;241m.\u001b[39mrecv_into(b)\n\u001b[1;32m    721\u001b[0m     \u001b[38;5;28;01mexcept\u001b[39;00m timeout:\n\u001b[1;32m    722\u001b[0m         \u001b[38;5;28mself\u001b[39m\u001b[38;5;241m.\u001b[39m_timeout_occurred \u001b[38;5;241m=\u001b[39m \u001b[38;5;28;01mTrue\u001b[39;00m\n",
      "\u001b[0;31mKeyboardInterrupt\u001b[0m: "
     ]
    }
   ],
   "source": [
    "streaming = eventSensors.writeStream \\\n",
    "        .outputMode(\"append\") \\\n",
    "        .format(\"csv\") \\\n",
    "        .option(\"path\", \"/home/guest/notebooks/data/output/\") \\\n",
    "        .option(\"checkpointLocation\", \"/home/guest/notebooks/data/checkpoints\") \\\n",
    "        .option(\"header\", \"true\") \\\n",
    "        .partitionBy(\"date\", \"hour\") \\\n",
    "        .start() \\\n",
    "        .awaitTermination()\n",
    "#"
   ]
  },
  {
   "cell_type": "code",
   "execution_count": null,
   "id": "c49a9575-686a-48d1-839d-c401e458ccc1",
   "metadata": {},
   "outputs": [],
   "source": [
    "streaming.stop()"
   ]
  },
  {
   "cell_type": "markdown",
   "id": "6373c04b-3296-4bc0-9fe5-e007dad92f41",
   "metadata": {},
   "source": [
    "## Coalesce"
   ]
  },
  {
   "cell_type": "code",
   "execution_count": null,
   "id": "9e040723-c968-4f16-bebb-ce058b1d92ca",
   "metadata": {},
   "outputs": [],
   "source": [
    "final_df = spark.read.csv(\"/home/guest/notebooks/data/output/day=*/hour=*\", header=True, inferSchema=True)\n",
    "final_df.take(5)"
   ]
  },
  {
   "cell_type": "code",
   "execution_count": null,
   "id": "405b8705-d0da-4392-b97c-dcfc75d3056f",
   "metadata": {},
   "outputs": [
    {
     "name": "stderr",
     "output_type": "stream",
     "text": [
      "                                                                                \r"
     ]
    }
   ],
   "source": [
    "final_df.orderBy(col(\"window_start\").asc()).coalesce(1).write \\\n",
    "    .option(\"header\", \"true\") \\\n",
    "    .mode(\"overwrite\") \\\n",
    "    .csv(\"/home/guest/notebooks/final_output/\")"
   ]
  }
 ],
 "metadata": {
  "kernelspec": {
   "display_name": "Python 3 (ipykernel)",
   "language": "python",
   "name": "python3"
  },
  "language_info": {
   "codemirror_mode": {
    "name": "ipython",
    "version": 3
   },
   "file_extension": ".py",
   "mimetype": "text/x-python",
   "name": "python",
   "nbconvert_exporter": "python",
   "pygments_lexer": "ipython3",
   "version": "3.12.7"
  }
 },
 "nbformat": 4,
 "nbformat_minor": 5
}
