{
 "cells": [
  {
   "cell_type": "markdown",
   "id": "82137510",
   "metadata": {},
   "source": [
    "## Baseline receiver stateless monitoring "
   ]
  },
  {
   "cell_type": "code",
   "execution_count": null,
   "id": "d34ea4b6-47b0-4d8b-af86-20804850195c",
   "metadata": {},
   "outputs": [],
   "source": [
    "import os\n",
    "\n",
    "os.environ[\"PYSPARK_SUBMIT_ARGS\"] = (\n",
    "    \"--packages \"\n",
    "    \"org.apache.spark:spark-sql-kafka-0-10_2.12:3.5.6,\"\n",
    "    \"org.apache.spark:spark-streaming-kafka-0-10_2.12:3.5.6 \"\n",
    "    \"pyspark-shell\"\n",
    ")"
   ]
  },
  {
   "cell_type": "code",
   "execution_count": 2,
   "id": "33d89bfc-8adb-4ff4-8dfc-7a8ef3a075ed",
   "metadata": {},
   "outputs": [
    {
     "name": "stdout",
     "output_type": "stream",
     "text": [
      ":: loading settings :: url = jar:file:/home/guest/spark/jars/ivy-2.5.1.jar!/org/apache/ivy/core/settings/ivysettings.xml\n"
     ]
    },
    {
     "name": "stderr",
     "output_type": "stream",
     "text": [
      "Ivy Default Cache set to: /home/guest/.ivy2/cache\n",
      "The jars for the packages stored in: /home/guest/.ivy2/jars\n",
      "org.apache.spark#spark-sql-kafka-0-10_2.12 added as a dependency\n",
      "org.apache.spark#spark-streaming-kafka-0-10_2.12 added as a dependency\n",
      ":: resolving dependencies :: org.apache.spark#spark-submit-parent-f2b9614c-f5e9-4150-93af-126de5ce8f17;1.0\n",
      "\tconfs: [default]\n",
      "\tfound org.apache.spark#spark-sql-kafka-0-10_2.12;3.5.6 in central\n",
      "\tfound org.apache.spark#spark-token-provider-kafka-0-10_2.12;3.5.6 in central\n",
      "\tfound org.apache.kafka#kafka-clients;3.4.1 in central\n",
      "\tfound org.lz4#lz4-java;1.8.0 in central\n",
      "\tfound org.xerial.snappy#snappy-java;1.1.10.5 in central\n",
      "\tfound org.slf4j#slf4j-api;2.0.7 in central\n",
      "\tfound org.apache.hadoop#hadoop-client-runtime;3.3.4 in central\n",
      "\tfound org.apache.hadoop#hadoop-client-api;3.3.4 in central\n",
      "\tfound commons-logging#commons-logging;1.1.3 in central\n",
      "\tfound com.google.code.findbugs#jsr305;3.0.0 in central\n",
      "\tfound org.apache.commons#commons-pool2;2.11.1 in central\n",
      "\tfound org.apache.spark#spark-streaming-kafka-0-10_2.12;3.5.6 in central\n",
      ":: resolution report :: resolve 182ms :: artifacts dl 7ms\n",
      "\t:: modules in use:\n",
      "\tcom.google.code.findbugs#jsr305;3.0.0 from central in [default]\n",
      "\tcommons-logging#commons-logging;1.1.3 from central in [default]\n",
      "\torg.apache.commons#commons-pool2;2.11.1 from central in [default]\n",
      "\torg.apache.hadoop#hadoop-client-api;3.3.4 from central in [default]\n",
      "\torg.apache.hadoop#hadoop-client-runtime;3.3.4 from central in [default]\n",
      "\torg.apache.kafka#kafka-clients;3.4.1 from central in [default]\n",
      "\torg.apache.spark#spark-sql-kafka-0-10_2.12;3.5.6 from central in [default]\n",
      "\torg.apache.spark#spark-streaming-kafka-0-10_2.12;3.5.6 from central in [default]\n",
      "\torg.apache.spark#spark-token-provider-kafka-0-10_2.12;3.5.6 from central in [default]\n",
      "\torg.lz4#lz4-java;1.8.0 from central in [default]\n",
      "\torg.slf4j#slf4j-api;2.0.7 from central in [default]\n",
      "\torg.xerial.snappy#snappy-java;1.1.10.5 from central in [default]\n",
      "\t---------------------------------------------------------------------\n",
      "\t|                  |            modules            ||   artifacts   |\n",
      "\t|       conf       | number| search|dwnlded|evicted|| number|dwnlded|\n",
      "\t---------------------------------------------------------------------\n",
      "\t|      default     |   12  |   0   |   0   |   0   ||   12  |   0   |\n",
      "\t---------------------------------------------------------------------\n",
      ":: retrieving :: org.apache.spark#spark-submit-parent-f2b9614c-f5e9-4150-93af-126de5ce8f17\n",
      "\tconfs: [default]\n",
      "\t0 artifacts copied, 12 already retrieved (0kB/3ms)\n",
      "25/06/26 12:57:30 WARN NativeCodeLoader: Unable to load native-hadoop library for your platform... using builtin-java classes where applicable\n",
      "Setting default log level to \"WARN\".\n",
      "To adjust logging level use sc.setLogLevel(newLevel). For SparkR, use setLogLevel(newLevel).\n"
     ]
    }
   ],
   "source": [
    "from pyspark.sql import SparkSession\n",
    "\n",
    "spark = SparkSession.builder \\\n",
    "        .appName(\"read_test_straeam\") \\\n",
    "        .getOrCreate()"
   ]
  },
  {
   "cell_type": "code",
   "execution_count": 3,
   "id": "e858b1ae-a663-4d5f-9d71-098a46bda47e",
   "metadata": {},
   "outputs": [],
   "source": [
    "from pyspark.sql.functions import from_json, col\n",
    "from pyspark.sql.types import StructType, StructField, StringType\n",
    "\n",
    "KAFKA_BOOTSTRAP_SERVERS = \"127.0.0.1:9092\"\n",
    "KAFKA_TOPIC = \"sensors\"\n",
    "\n",
    "\n",
    "schema = StructType().add(\"sensor\", StringType())\\\n",
    "                     .add(\"info\", StructType()\\\n",
    "                          .add(\"timestamp_sent\", StringType())\\\n",
    "                          .add(\"timestamp_received\", StringType())\\\n",
    "                          .add(\"obs\", StringType())\\\n",
    "                          .add(\"drift\", StringType()))\n",
    "\n",
    "df = spark \\\n",
    "  .readStream \\\n",
    "  .format(\"kafka\") \\\n",
    "  .option(\"kafka.bootstrap.servers\", KAFKA_BOOTSTRAP_SERVERS) \\\n",
    "  .option(\"subscribe\", KAFKA_TOPIC) \\\n",
    "  .option(\"startingOffsets\", \"earliest\") \\\n",
    "  .load()\\\n",
    "  .select(from_json(col(\"value\").cast(\"string\"), schema).alias(\"parsed_value\"))\\\n",
    "            .select(col(\"parsed_value.sensor\"), \\\n",
    "                    col(\"parsed_value.info.timestamp_sent\"),\\\n",
    "                    col(\"parsed_value.info.timestamp_received\"),\\\n",
    "                    col(\"parsed_value.info.obs\"),\\\n",
    "                    col(\"parsed_value.info.drift\"))"
   ]
  },
  {
   "cell_type": "code",
   "execution_count": 4,
   "id": "69cde0ac-0327-4046-bb43-0b8061b30cc3",
   "metadata": {},
   "outputs": [
    {
     "name": "stdout",
     "output_type": "stream",
     "text": [
      "root\n",
      " |-- sensor: string (nullable = true)\n",
      " |-- timestamp_sent: string (nullable = true)\n",
      " |-- timestamp_received: string (nullable = true)\n",
      " |-- obs: string (nullable = true)\n",
      " |-- drift: string (nullable = true)\n",
      "\n"
     ]
    }
   ],
   "source": [
    "df.printSchema()"
   ]
  },
  {
   "cell_type": "code",
   "execution_count": 5,
   "id": "6a26fb0e-237a-4f8d-bf36-a49723474383",
   "metadata": {},
   "outputs": [],
   "source": [
    "watermark=True\n",
    "WATERMARK_SIZE=\"1 minute\"\n",
    "WINDOW_SIZE=\"1 minute\""
   ]
  },
  {
   "cell_type": "code",
   "execution_count": 6,
   "id": "6678d5a8-d3c1-432c-844d-0b5a3638e00c",
   "metadata": {},
   "outputs": [],
   "source": [
    "from pyspark.sql.functions import window, avg, count, desc, stddev, min, max, isnull, col, sum, isnan, unix_timestamp, round\n",
    "from pyspark.sql.functions import from_unixtime, to_utc_timestamp, date_format\n",
    "\n",
    "df = df.withColumn(\"timestamp_received\", to_utc_timestamp(\"timestamp_received\", \"Europe/Rome\"))\\\n",
    "         .withColumn(\"timestamp_sent\", to_utc_timestamp(\"timestamp_received\", \"Europe/Rome\"))\\\n",
    "            .withColumn(\"time_diff\", (col(\"timestamp_received\").cast(\"double\") - col(\"timestamp_sent\").cast(\"double\")))\\\n",
    "\n",
    "\n",
    "if watermark:\n",
    "    df = df.withWatermark(\"timestamp_received\", WATERMARK_SIZE)\n",
    "\n",
    "eventAvg = df.groupBy(window(df.timestamp_received, WINDOW_SIZE), df.sensor)\\\n",
    "                    .agg(\n",
    "                        count(\"obs\").alias(\"count_obs\"),\n",
    "                        round(avg(\"obs\"), 3).alias(\"avg_obs\"),\n",
    "                        round(stddev(\"obs\"), 3).alias(\"+/-std_obs\"),\n",
    "                        round(max(\"obs\"), 3).alias(\"max_obs\"),\n",
    "                        round(min(\"obs\"), 3).alias(\"min_obs\"),\n",
    "                        round(sum((isnull(\"obs\") | isnan(\"obs\")).cast(\"int\")), 3).alias(\"sum_miss_obs\"),\n",
    "                        round(avg(\"time_diff\"), 3).alias(\"avg_time_delay\")\n",
    "                        )\\\n",
    "                    .withColumn(\"window_start\", col(\"window.start\")) \\\n",
    "                    .withColumn(\"window_end\", col(\"window.end\"))\\\n",
    "                    .withColumn(\"day\", date_format(\"window_start\", \"yyyy-MM-dd\")) \\\n",
    "                    .withColumn(\"hour\", date_format(\"window_start\", \"HH\")) \\\n",
    "                    .drop(\"window\") #.sort(desc(\"window\"))"
   ]
  },
  {
   "cell_type": "code",
   "execution_count": null,
   "id": "e06584a4-1474-4a6c-9c0f-6e7c7dd34b16",
   "metadata": {},
   "outputs": [
    {
     "name": "stderr",
     "output_type": "stream",
     "text": [
      "25/06/26 12:57:32 WARN ResolveWriteToStream: spark.sql.adaptive.enabled is not supported in streaming DataFrames/Datasets and will be disabled.\n",
      "25/06/26 12:57:32 WARN AdminClientConfig: These configurations '[key.deserializer, value.deserializer, enable.auto.commit, max.poll.records, auto.offset.reset]' were supplied but are not used yet.\n",
      "                                                                                \r"
     ]
    }
   ],
   "source": [
    "eventAvg.writeStream \\\n",
    "        .outputMode(\"append\") \\\n",
    "        .trigger(processingTime=\"30 seconds\") \\\n",
    "        .format(\"csv\") \\\n",
    "        .option(\"path\", \"/home/guest/notebooks/data/output/\") \\\n",
    "        .option(\"checkpointLocation\", \"/home/guest/notebooks/data/checkpoints\") \\\n",
    "        .option(\"header\", \"true\") \\\n",
    "        .partitionBy(\"day\", \"hour\") \\\n",
    "        .start().awaitTermination()"
   ]
  },
  {
   "cell_type": "code",
   "execution_count": null,
   "id": "9e040723-c968-4f16-bebb-ce058b1d92ca",
   "metadata": {},
   "outputs": [],
   "source": [
    "#results = eventAvg.writeStream \\\n",
    "#         .outputMode('complete')\\\n",
    "#         .format(\"console\") \\\n",
    "#         .start() \\\n",
    "#         .awaitTermination()"
   ]
  }
 ],
 "metadata": {
  "kernelspec": {
   "display_name": "Python 3 (ipykernel)",
   "language": "python",
   "name": "python3"
  },
  "language_info": {
   "codemirror_mode": {
    "name": "ipython",
    "version": 3
   },
   "file_extension": ".py",
   "mimetype": "text/x-python",
   "name": "python",
   "nbconvert_exporter": "python",
   "pygments_lexer": "ipython3",
   "version": "3.12.7"
  }
 },
 "nbformat": 4,
 "nbformat_minor": 5
}
