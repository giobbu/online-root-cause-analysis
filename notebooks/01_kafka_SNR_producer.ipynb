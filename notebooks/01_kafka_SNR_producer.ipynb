{
 "cells": [
  {
   "cell_type": "markdown",
   "id": "66f714fc",
   "metadata": {},
   "source": [
    "## Signal-To-Noise-Ratio\n"
   ]
  },
  {
   "cell_type": "code",
   "execution_count": 1,
   "id": "52f6557a-717b-43d7-8f97-d87dafdcfe65",
   "metadata": {},
   "outputs": [],
   "source": [
    "from kafka import KafkaProducer\n",
    "import time\n",
    "import datetime\n",
    "import json\n",
    "import numpy as np\n",
    "import random\n",
    "from utils.kafka_sender import plot_sens_obs, plot_drift_stream\n",
    "from schemas.schema_sensor import SensorParams, DriftParams"
   ]
  },
  {
   "cell_type": "code",
   "execution_count": 2,
   "id": "bda658b6-7224-4f02-8042-c7786672de1c",
   "metadata": {},
   "outputs": [],
   "source": [
    "NOISE_LEVEL=0  # Set NOISE LEVEL\n",
    "\n",
    "params_sens1 = SensorParams(sensor_name=\"sensor-1\",\n",
    "                            mu=2,\n",
    "                            sigma=3,\n",
    "                            eps=NOISE_LEVEL,\n",
    "                            max_delay=0.1,\n",
    "                            )\n",
    "\n",
    "params_sens2 = SensorParams(sensor_name=\"sensor-2\",\n",
    "                            mu=3,\n",
    "                            sigma=3,\n",
    "                            eps=NOISE_LEVEL,\n",
    "                            max_delay=0.1,\n",
    "                            )\n",
    "\n",
    "params_sens3 = SensorParams(sensor_name=\"sensor-3\",\n",
    "                            mu=1,\n",
    "                            sigma=3,\n",
    "                            eps=NOISE_LEVEL,\n",
    "                            max_delay=0.1,\n",
    "                            )"
   ]
  },
  {
   "cell_type": "code",
   "execution_count": 3,
   "id": "ed88263c-aa2f-4e07-8401-1234140e4daa",
   "metadata": {},
   "outputs": [],
   "source": [
    "producer = KafkaProducer(bootstrap_servers='localhost:9092', \n",
    "                         value_serializer=lambda v: json.dumps(v).encode('utf-8'))"
   ]
  },
  {
   "cell_type": "markdown",
   "id": "fa3fa9e1",
   "metadata": {},
   "source": [
    "## Desired signal"
   ]
  },
  {
   "cell_type": "code",
   "execution_count": 4,
   "id": "61fc1829-5c16-4329-bca7-6a3c346ec32c",
   "metadata": {},
   "outputs": [
    {
     "ename": "AttributeError",
     "evalue": "module 'numpy' has no attribute 'uniform'",
     "output_type": "error",
     "traceback": [
      "\u001b[0;31m---------------------------------------------------------------------------\u001b[0m",
      "\u001b[0;31mAttributeError\u001b[0m                            Traceback (most recent call last)",
      "Cell \u001b[0;32mIn[4], line 13\u001b[0m\n\u001b[1;32m      9\u001b[0m unbounded_data \u001b[38;5;241m=\u001b[39m generator_streaming_data(producer, params_sens1, params_sens2, params_sens3)\n\u001b[1;32m     11\u001b[0m \u001b[38;5;28;01mfor\u001b[39;00m _ \u001b[38;5;129;01min\u001b[39;00m \u001b[38;5;28mrange\u001b[39m(NUM_OBS):\n\u001b[0;32m---> 13\u001b[0m     data \u001b[38;5;241m=\u001b[39m \u001b[38;5;28mnext\u001b[39m(unbounded_data)\n\u001b[1;32m     15\u001b[0m     list_signal_obs_1\u001b[38;5;241m.\u001b[39mappend(data[\u001b[38;5;124m\"\u001b[39m\u001b[38;5;124msensor_1\u001b[39m\u001b[38;5;124m\"\u001b[39m][\u001b[38;5;124m\"\u001b[39m\u001b[38;5;124mobs\u001b[39m\u001b[38;5;124m\"\u001b[39m])\n\u001b[1;32m     16\u001b[0m     list_signal_obs_2\u001b[38;5;241m.\u001b[39mappend(data[\u001b[38;5;124m\"\u001b[39m\u001b[38;5;124msensor_2\u001b[39m\u001b[38;5;124m\"\u001b[39m][\u001b[38;5;124m\"\u001b[39m\u001b[38;5;124mobs\u001b[39m\u001b[38;5;124m\"\u001b[39m])\n",
      "File \u001b[0;32m~/notebooks/utils/kafka_sender.py:92\u001b[0m, in \u001b[0;36mgenerator_streaming_data\u001b[0;34m(producer, params_sens1, params_sens2, params_sens3, SEED)\u001b[0m\n\u001b[1;32m     86\u001b[0m i \u001b[38;5;241m=\u001b[39m \u001b[38;5;241m0\u001b[39m  \u001b[38;5;66;03m# time step\u001b[39;00m\n\u001b[1;32m     88\u001b[0m \u001b[38;5;28;01mwhile\u001b[39;00m \u001b[38;5;28;01mTrue\u001b[39;00m:\n\u001b[1;32m     89\u001b[0m \n\u001b[1;32m     90\u001b[0m     \n\u001b[1;32m     91\u001b[0m     \u001b[38;5;66;03m# Sensor-1\u001b[39;00m\n\u001b[0;32m---> 92\u001b[0m     data_1, drift_1, delay_1 \u001b[38;5;241m=\u001b[39m send_sensor_data(\n\u001b[1;32m     93\u001b[0m         producer\u001b[38;5;241m=\u001b[39mproducer, topic\u001b[38;5;241m=\u001b[39m\u001b[38;5;124m\"\u001b[39m\u001b[38;5;124msensors\u001b[39m\u001b[38;5;124m\"\u001b[39m, params\u001b[38;5;241m=\u001b[39mparams_sens1, time_step\u001b[38;5;241m=\u001b[39mi\n\u001b[1;32m     94\u001b[0m     )\n\u001b[1;32m     95\u001b[0m     \u001b[38;5;66;03m# Sensor-2\u001b[39;00m\n\u001b[1;32m     96\u001b[0m     data_2, drift_2, delay_2 \u001b[38;5;241m=\u001b[39m send_sensor_data(\n\u001b[1;32m     97\u001b[0m         producer\u001b[38;5;241m=\u001b[39mproducer, topic\u001b[38;5;241m=\u001b[39m\u001b[38;5;124m\"\u001b[39m\u001b[38;5;124msensors\u001b[39m\u001b[38;5;124m\"\u001b[39m, params\u001b[38;5;241m=\u001b[39mparams_sens2, time_step\u001b[38;5;241m=\u001b[39mi\n\u001b[1;32m     98\u001b[0m     )\n",
      "File \u001b[0;32m~/notebooks/utils/kafka_sender.py:67\u001b[0m, in \u001b[0;36msend_sensor_data\u001b[0;34m(producer, topic, params, time_step)\u001b[0m\n\u001b[1;32m     64\u001b[0m             drift \u001b[38;5;241m=\u001b[39m \u001b[38;5;28;01mTrue\u001b[39;00m\n\u001b[1;32m     65\u001b[0m             \u001b[38;5;28;01mbreak\u001b[39;00m\n\u001b[0;32m---> 67\u001b[0m delay_value \u001b[38;5;241m=\u001b[39m np\u001b[38;5;241m.\u001b[39muniform(\u001b[38;5;241m0\u001b[39m, params\u001b[38;5;241m.\u001b[39mmax_delay)\n\u001b[1;32m     68\u001b[0m data_sent\u001b[38;5;241m=\u001b[39m{\u001b[38;5;124m'\u001b[39m\u001b[38;5;124msensor\u001b[39m\u001b[38;5;124m'\u001b[39m: params\u001b[38;5;241m.\u001b[39msensor_name,\n\u001b[1;32m     69\u001b[0m            \u001b[38;5;124m'\u001b[39m\u001b[38;5;124minfo\u001b[39m\u001b[38;5;124m'\u001b[39m: {\u001b[38;5;124m'\u001b[39m\u001b[38;5;124mtimestamp_sent\u001b[39m\u001b[38;5;124m'\u001b[39m: (datetime\u001b[38;5;241m.\u001b[39mdatetime\u001b[38;5;241m.\u001b[39mnow()\u001b[38;5;241m-\u001b[39m datetime\u001b[38;5;241m.\u001b[39mtimedelta(seconds\u001b[38;5;241m=\u001b[39mdelay_value))\u001b[38;5;241m.\u001b[39mstrftime(\u001b[38;5;124m'\u001b[39m\u001b[38;5;124m%\u001b[39m\u001b[38;5;124mY-\u001b[39m\u001b[38;5;124m%\u001b[39m\u001b[38;5;124mm-\u001b[39m\u001b[38;5;132;01m%d\u001b[39;00m\u001b[38;5;124m \u001b[39m\u001b[38;5;124m%\u001b[39m\u001b[38;5;124mH:\u001b[39m\u001b[38;5;124m%\u001b[39m\u001b[38;5;124mM:\u001b[39m\u001b[38;5;124m%\u001b[39m\u001b[38;5;124mS\u001b[39m\u001b[38;5;124m'\u001b[39m),\n\u001b[1;32m     70\u001b[0m                     \u001b[38;5;124m'\u001b[39m\u001b[38;5;124mtimestamp_received\u001b[39m\u001b[38;5;124m'\u001b[39m: datetime\u001b[38;5;241m.\u001b[39mdatetime\u001b[38;5;241m.\u001b[39mnow()\u001b[38;5;241m.\u001b[39mstrftime(\u001b[38;5;124m'\u001b[39m\u001b[38;5;124m%\u001b[39m\u001b[38;5;124mY-\u001b[39m\u001b[38;5;124m%\u001b[39m\u001b[38;5;124mm-\u001b[39m\u001b[38;5;132;01m%d\u001b[39;00m\u001b[38;5;124m \u001b[39m\u001b[38;5;124m%\u001b[39m\u001b[38;5;124mH:\u001b[39m\u001b[38;5;124m%\u001b[39m\u001b[38;5;124mM:\u001b[39m\u001b[38;5;124m%\u001b[39m\u001b[38;5;124mS\u001b[39m\u001b[38;5;124m'\u001b[39m),\n\u001b[1;32m     71\u001b[0m                     \u001b[38;5;124m'\u001b[39m\u001b[38;5;124mobs\u001b[39m\u001b[38;5;124m'\u001b[39m: data_value,\n\u001b[1;32m     72\u001b[0m                     \u001b[38;5;124m'\u001b[39m\u001b[38;5;124mdrift\u001b[39m\u001b[38;5;124m'\u001b[39m: drift}}\n\u001b[1;32m     73\u001b[0m \u001b[38;5;28;01mtry\u001b[39;00m:\n",
      "File \u001b[0;32m~/anaconda3/lib/python3.12/site-packages/numpy/__init__.py:333\u001b[0m, in \u001b[0;36m__getattr__\u001b[0;34m(attr)\u001b[0m\n\u001b[1;32m    330\u001b[0m     \u001b[38;5;124m\"\u001b[39m\u001b[38;5;124mRemoved in NumPy 1.25.0\u001b[39m\u001b[38;5;124m\"\u001b[39m\n\u001b[1;32m    331\u001b[0m     \u001b[38;5;28;01mraise\u001b[39;00m \u001b[38;5;167;01mRuntimeError\u001b[39;00m(\u001b[38;5;124m\"\u001b[39m\u001b[38;5;124mTester was removed in NumPy 1.25.\u001b[39m\u001b[38;5;124m\"\u001b[39m)\n\u001b[0;32m--> 333\u001b[0m \u001b[38;5;28;01mraise\u001b[39;00m \u001b[38;5;167;01mAttributeError\u001b[39;00m(\u001b[38;5;124m\"\u001b[39m\u001b[38;5;124mmodule \u001b[39m\u001b[38;5;132;01m{!r}\u001b[39;00m\u001b[38;5;124m has no attribute \u001b[39m\u001b[38;5;124m\"\u001b[39m\n\u001b[1;32m    334\u001b[0m                      \u001b[38;5;124m\"\u001b[39m\u001b[38;5;132;01m{!r}\u001b[39;00m\u001b[38;5;124m\"\u001b[39m\u001b[38;5;241m.\u001b[39mformat(\u001b[38;5;18m__name__\u001b[39m, attr))\n",
      "\u001b[0;31mAttributeError\u001b[0m: module 'numpy' has no attribute 'uniform'"
     ]
    }
   ],
   "source": [
    "from utils.kafka_sender import generator_streaming_data\n",
    "\n",
    "NUM_OBS = 100\n",
    "\n",
    "list_signal_obs_1=[]\n",
    "list_signal_obs_2=[]\n",
    "list_signal_obs_3=[]\n",
    "\n",
    "unbounded_data = generator_streaming_data(producer, params_sens1, params_sens2, params_sens3)\n",
    "\n",
    "for _ in range(NUM_OBS):\n",
    "    \n",
    "    data = next(unbounded_data)\n",
    "    \n",
    "    list_signal_obs_1.append(data[\"sensor_1\"][\"obs\"])\n",
    "    list_signal_obs_2.append(data[\"sensor_2\"][\"obs\"])\n",
    "    list_signal_obs_3.append(data[\"sensor_3\"][\"obs\"])"
   ]
  },
  {
   "cell_type": "code",
   "execution_count": null,
   "id": "e674f525-aabc-4f68-bf8e-d9b26ece89aa",
   "metadata": {},
   "outputs": [],
   "source": [
    "from utils.kafka_sender import plot_sens_obs\n",
    "\n",
    "obs_data_stream = np.array([list_signal_obs_1, list_signal_obs_2, list_signal_obs_3])\n",
    "\n",
    "# plot sensor observations\n",
    "y_upper_limit= 15\n",
    "y_lower_limit= -15\n",
    "plot_sens_obs(obs_data_stream, ylim_low=y_lower_limit, ylim_up=y_upper_limit)"
   ]
  },
  {
   "cell_type": "markdown",
   "id": "c8c7e156",
   "metadata": {},
   "source": [
    "## Desired signal with background noise"
   ]
  },
  {
   "cell_type": "code",
   "execution_count": null,
   "id": "671c2848-d3ea-441b-9cf1-207002496772",
   "metadata": {},
   "outputs": [],
   "source": [
    "# Add background noise\n",
    "NOISE_LEVEL=5\n",
    "\n",
    "params_sens1.eps = NOISE_LEVEL\n",
    "params_sens2.eps = NOISE_LEVEL\n",
    "params_sens3.eps = NOISE_LEVEL"
   ]
  },
  {
   "cell_type": "code",
   "execution_count": null,
   "id": "ea324e57-4562-4403-b7bd-c86efbd4c2d2",
   "metadata": {},
   "outputs": [],
   "source": [
    "list_noisy_obs_1=[]\n",
    "list_noisy_obs_2=[]\n",
    "list_noisy_obs_3=[]\n",
    "\n",
    "unbounded_noisy_data = generator_streaming_data(producer, params_sens1, params_sens2, params_sens3)\n",
    "\n",
    "for _ in range(NUM_OBS):\n",
    "    \n",
    "    noisy_data = next(unbounded_noisy_data)\n",
    "    \n",
    "    list_noisy_obs_1.append(noisy_data[\"sensor_1\"][\"obs\"])\n",
    "    list_noisy_obs_2.append(noisy_data[\"sensor_2\"][\"obs\"])\n",
    "    list_noisy_obs_3.append(noisy_data[\"sensor_3\"][\"obs\"])"
   ]
  },
  {
   "cell_type": "code",
   "execution_count": null,
   "id": "f6b794da-1208-4f45-b7e5-df1b7e19a354",
   "metadata": {},
   "outputs": [],
   "source": [
    "import matplotlib.pyplot as plt\n",
    "\n",
    "noisy_obs_data_stream = np.array([list_noisy_obs_1, list_noisy_obs_2, list_noisy_obs_3])\n",
    "\n",
    "noise_levels = {\"signal\": obs_data_stream,\n",
    "                f\"noise-level{NOISE_LEVEL}\": noisy_obs_data_stream}\n",
    "\n",
    "fig, axes = plt.subplots(nrows=len(obs_data_stream), ncols=1, figsize=(10, 10), sharex=True)\n",
    "for idx, ax in enumerate(axes):\n",
    "    ax.plot(np.arange(len(obs_data_stream[idx])), noise_levels[\"signal\"][idx], color=\"blue\", label=\"desired-signal\")\n",
    "    ax.scatter(np.arange(len(obs_data_stream[idx])), noise_levels[\"signal\"][idx], color=\"blue\")\n",
    "    ax.plot(np.arange(len(obs_data_stream[idx])), noise_levels[f\"noise-level{NOISE_LEVEL}\"][idx], color=\"red\", label=\"signal-with-noise\")\n",
    "    ax.scatter(np.arange(len(obs_data_stream[idx])), noise_levels[f\"noise-level{NOISE_LEVEL}\"][idx], color=\"red\")\n",
    "    ax.set_ylabel(f\"Sensor-{idx + 1}\")\n",
    "    ax.set_xlabel(\"Time Step\")\n",
    "    ax.set_ylim(-20, 20)\n",
    "    ax.legend()\n",
    "plt.tight_layout()\n",
    "plt.show()"
   ]
  }
 ],
 "metadata": {
  "kernelspec": {
   "display_name": "Python 3 (ipykernel)",
   "language": "python",
   "name": "python3"
  },
  "language_info": {
   "codemirror_mode": {
    "name": "ipython",
    "version": 3
   },
   "file_extension": ".py",
   "mimetype": "text/x-python",
   "name": "python",
   "nbconvert_exporter": "python",
   "pygments_lexer": "ipython3",
   "version": "3.12.7"
  }
 },
 "nbformat": 4,
 "nbformat_minor": 5
}
