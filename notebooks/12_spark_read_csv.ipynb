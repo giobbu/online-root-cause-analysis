{
 "cells": [
  {
   "cell_type": "markdown",
   "id": "dc14b38d-7f7c-4d4c-95ea-c647ad3bc32d",
   "metadata": {},
   "source": [
    "## Analyze CSV file"
   ]
  },
  {
   "cell_type": "code",
   "execution_count": null,
   "id": "b6a72ac6-b80f-4324-96fc-f8884740608a",
   "metadata": {},
   "outputs": [
    {
     "name": "stdout",
     "output_type": "stream",
     "text": [
      ":: loading settings :: url = jar:file:/home/guest/spark/jars/ivy-2.5.1.jar!/org/apache/ivy/core/settings/ivysettings.xml\n"
     ]
    },
    {
     "name": "stderr",
     "output_type": "stream",
     "text": [
      "Ivy Default Cache set to: /home/guest/.ivy2/cache\n",
      "The jars for the packages stored in: /home/guest/.ivy2/jars\n",
      "org.apache.spark#spark-sql-kafka-0-10_2.12 added as a dependency\n",
      "org.apache.spark#spark-streaming-kafka-0-10_2.12 added as a dependency\n",
      ":: resolving dependencies :: org.apache.spark#spark-submit-parent-488b7ec5-ef72-42fc-ae3c-30aa7ba17c7a;1.0\n",
      "\tconfs: [default]\n",
      "\tfound org.apache.spark#spark-sql-kafka-0-10_2.12;3.5.6 in central\n",
      "\tfound org.apache.spark#spark-token-provider-kafka-0-10_2.12;3.5.6 in central\n",
      "\tfound org.apache.kafka#kafka-clients;3.4.1 in central\n",
      "\tfound org.lz4#lz4-java;1.8.0 in central\n",
      "\tfound org.xerial.snappy#snappy-java;1.1.10.5 in central\n",
      "\tfound org.slf4j#slf4j-api;2.0.7 in central\n",
      "\tfound org.apache.hadoop#hadoop-client-runtime;3.3.4 in central\n",
      "\tfound org.apache.hadoop#hadoop-client-api;3.3.4 in central\n",
      "\tfound commons-logging#commons-logging;1.1.3 in central\n",
      "\tfound com.google.code.findbugs#jsr305;3.0.0 in central\n",
      "\tfound org.apache.commons#commons-pool2;2.11.1 in central\n",
      "\tfound org.apache.spark#spark-streaming-kafka-0-10_2.12;3.5.6 in central\n",
      ":: resolution report :: resolve 1705ms :: artifacts dl 72ms\n",
      "\t:: modules in use:\n",
      "\tcom.google.code.findbugs#jsr305;3.0.0 from central in [default]\n",
      "\tcommons-logging#commons-logging;1.1.3 from central in [default]\n",
      "\torg.apache.commons#commons-pool2;2.11.1 from central in [default]\n",
      "\torg.apache.hadoop#hadoop-client-api;3.3.4 from central in [default]\n",
      "\torg.apache.hadoop#hadoop-client-runtime;3.3.4 from central in [default]\n",
      "\torg.apache.kafka#kafka-clients;3.4.1 from central in [default]\n",
      "\torg.apache.spark#spark-sql-kafka-0-10_2.12;3.5.6 from central in [default]\n",
      "\torg.apache.spark#spark-streaming-kafka-0-10_2.12;3.5.6 from central in [default]\n",
      "\torg.apache.spark#spark-token-provider-kafka-0-10_2.12;3.5.6 from central in [default]\n",
      "\torg.lz4#lz4-java;1.8.0 from central in [default]\n",
      "\torg.slf4j#slf4j-api;2.0.7 from central in [default]\n",
      "\torg.xerial.snappy#snappy-java;1.1.10.5 from central in [default]\n",
      "\t---------------------------------------------------------------------\n",
      "\t|                  |            modules            ||   artifacts   |\n",
      "\t|       conf       | number| search|dwnlded|evicted|| number|dwnlded|\n",
      "\t---------------------------------------------------------------------\n",
      "\t|      default     |   12  |   0   |   0   |   0   ||   12  |   0   |\n",
      "\t---------------------------------------------------------------------\n",
      ":: retrieving :: org.apache.spark#spark-submit-parent-488b7ec5-ef72-42fc-ae3c-30aa7ba17c7a\n",
      "\tconfs: [default]\n",
      "\t0 artifacts copied, 12 already retrieved (0kB/36ms)\n",
      "25/07/04 12:33:13 WARN NativeCodeLoader: Unable to load native-hadoop library for your platform... using builtin-java classes where applicable\n",
      "Setting default log level to \"WARN\".\n",
      "To adjust logging level use sc.setLogLevel(newLevel). For SparkR, use setLogLevel(newLevel).\n",
      "25/07/04 12:33:15 WARN Utils: Service 'SparkUI' could not bind on port 4040. Attempting port 4041.\n",
      "[Stage 5:>                                                        (0 + 10) / 10]\r"
     ]
    }
   ],
   "source": [
    "import os\n",
    "\n",
    "os.environ[\"PYSPARK_SUBMIT_ARGS\"] = (\n",
    "    \"--packages \"\n",
    "    \"org.apache.spark:spark-sql-kafka-0-10_2.12:3.5.6,\"\n",
    "    \"org.apache.spark:spark-streaming-kafka-0-10_2.12:3.5.6 \"\n",
    "    \"pyspark-shell\"\n",
    ")\n",
    "\n",
    "from pyspark.sql import SparkSession\n",
    "\n",
    "spark = SparkSession.builder \\\n",
    "        .appName(\"read_test_stream\") \\\n",
    "        .getOrCreate()\n",
    "\n",
    "final_df = spark.read.csv(\"/home/guest/notebooks/data/output/date=*/hour=*\", header=True, inferSchema=True)\n",
    "final_df.take(5)\n",
    "\n",
    "from pyspark.sql.functions import col\n",
    "\n",
    "final_df.orderBy(col(\"window_start\").asc()).coalesce(1).write \\\n",
    "    .option(\"header\", \"true\") \\\n",
    "    .mode(\"overwrite\") \\\n",
    "    .csv(\"/home/guest/notebooks/final_output/\")"
   ]
  },
  {
   "cell_type": "code",
   "execution_count": null,
   "id": "3bedce05-392e-4474-a08c-ad5fa18ab001",
   "metadata": {},
   "outputs": [],
   "source": [
    "import pandas as pd\n",
    "import matplotlib.pyplot as plt\n",
    "import seaborn as sns\n",
    "import glob"
   ]
  },
  {
   "cell_type": "code",
   "execution_count": null,
   "id": "b9ab4629-7823-4b7f-bc05-6d33f67faa98",
   "metadata": {},
   "outputs": [],
   "source": [
    "# Using '*' pattern \n",
    "print('\\nFile name:\\n')\n",
    "for name in glob.glob('/home/guest/notebooks/final_output/*.csv'):\n",
    "    print(name)"
   ]
  },
  {
   "cell_type": "code",
   "execution_count": null,
   "id": "ede60412-6f3c-462f-9c32-7ca2406ba73f",
   "metadata": {},
   "outputs": [],
   "source": [
    "pandas_df = pd.read_csv(f\"{name}\")\n",
    "pandas_df.tail()"
   ]
  },
  {
   "cell_type": "code",
   "execution_count": null,
   "id": "966edc7d-4c09-42fe-a6a5-9e4f16d4f1de",
   "metadata": {},
   "outputs": [],
   "source": [
    "pandas_df[\"datetime\"] = pd.to_datetime(pandas_df[\"window_end\"])"
   ]
  },
  {
   "cell_type": "code",
   "execution_count": null,
   "id": "8afcbab0-9a6a-4cdc-b340-93ce119501a0",
   "metadata": {},
   "outputs": [],
   "source": [
    "sorted_df = pandas_df.sort_values(by='datetime').set_index(\"datetime\")"
   ]
  },
  {
   "cell_type": "code",
   "execution_count": null,
   "id": "c3cc1c18-e166-4982-9c3a-7b3452c1d94c",
   "metadata": {},
   "outputs": [],
   "source": [
    "sorted_df['range_max_min'] = sorted_df['max'] - sorted_df['min']"
   ]
  },
  {
   "cell_type": "code",
   "execution_count": null,
   "id": "f38442fb-2894-428f-8a14-300a9717ddf8",
   "metadata": {},
   "outputs": [],
   "source": [
    "sorted_df.groupby(\"sensor\").count()"
   ]
  },
  {
   "cell_type": "code",
   "execution_count": null,
   "id": "d500ed83-4cc6-41eb-972c-c2f300b5947d",
   "metadata": {},
   "outputs": [],
   "source": [
    "df_avg = sorted_df[[\"sensor\", \"avg\"]].pivot(columns='sensor', values='avg')\n",
    "\n",
    "#sorted_df.groupby(\"sensor\").avg_obs.plot(figsize=(15,5))\n",
    "#plt.legend()\n",
    "#plt.plot()\n",
    "\n",
    "plt.figure(figsize=(15, 2))\n",
    "sns.heatmap(df_avg.T, \n",
    "            annot=True, \n",
    "            cbar=False, \n",
    "            linewidths=1, \n",
    "            linecolor='white', )\n",
    "plt.title(\"AVG Value Per Minute\")\n",
    "plt.show()"
   ]
  },
  {
   "cell_type": "code",
   "execution_count": null,
   "id": "6e1599d9-d18e-40c5-b060-4ea4a3f6fc03",
   "metadata": {},
   "outputs": [],
   "source": [
    "df_range = sorted_df[[\"sensor\", \"range_max_min\"]].pivot(columns='sensor', values='range_max_min')\n",
    "\n",
    "#sorted_df.groupby(\"sensor\").range_max_min.plot(figsize=(15,5))\n",
    "#plt.legend()\n",
    "#plt.plot()\n",
    "\n",
    "plt.figure(figsize=(15, 2))\n",
    "sns.heatmap(df_range.T, \n",
    "            annot=True, \n",
    "            cbar=False, \n",
    "            linewidths=1, \n",
    "            linecolor='white')\n",
    "plt.title(\"RANGE Per Minute\")\n",
    "plt.show()"
   ]
  },
  {
   "cell_type": "code",
   "execution_count": null,
   "id": "5ce500de-c342-4abb-84df-5f8773615c4f",
   "metadata": {},
   "outputs": [],
   "source": [
    "df_counts = sorted_df[[\"sensor\", \"count\"]].pivot(columns='sensor', values='count')\n",
    "\n",
    "plt.figure(figsize=(15, 2))\n",
    "sns.heatmap(df_counts.T, annot=True, cbar=False, \n",
    "                    linewidths=1, \n",
    "                    linecolor='white', )\n",
    "plt.title(\"OBS COUNT Per Minute\")\n",
    "plt.show()"
   ]
  },
  {
   "cell_type": "code",
   "execution_count": null,
   "id": "22e691b3-e2a2-4491-92ed-9031539cc2ac",
   "metadata": {},
   "outputs": [],
   "source": [
    "df_misses = sorted_df[[\"sensor\", \"count_miss\"]].pivot(columns='sensor', values='count_miss')\n",
    "\n",
    "plt.figure(figsize=(15, 2))\n",
    "sns.heatmap(df_misses.T, annot=True, cbar=False, \n",
    "                    linewidths=1, \n",
    "                    linecolor='white', )\n",
    "plt.title(\"COUNT MISSING\")\n",
    "plt.show()\n"
   ]
  },
  {
   "cell_type": "code",
   "execution_count": null,
   "id": "a3d3934a-685c-449c-b3d1-c2d864543eb6",
   "metadata": {},
   "outputs": [],
   "source": [
    "df_out_control = sorted_df[[\"sensor\", \"is_out_control\"]].pivot(columns='sensor', values='is_out_control').fillna(0).astype(int)\n",
    "\n",
    "plt.figure(figsize=(15, 2))\n",
    "sns.heatmap(df_out_control.T, \n",
    "            annot=True, \n",
    "            cbar=True, \n",
    "            linewidths=1, \n",
    "            linecolor='white')\n",
    "plt.title(\"OUT-OF-CONTROL: NORMAL-0, WARNING-1, ALARM-2\")\n",
    "plt.show()"
   ]
  },
  {
   "cell_type": "code",
   "execution_count": null,
   "id": "61e2e0c1-9825-4a92-b985-08d2da5a0774",
   "metadata": {},
   "outputs": [],
   "source": [
    "plt.figure(figsize=(15, 5))\n",
    "sorted_df.groupby(\"sensor\").max_delay.hist(legend=True)\n",
    "plt.title(\"DELAY in observations\")\n",
    "plt.show()"
   ]
  }
 ],
 "metadata": {
  "kernelspec": {
   "display_name": "Python 3 (ipykernel)",
   "language": "python",
   "name": "python3"
  },
  "language_info": {
   "codemirror_mode": {
    "name": "ipython",
    "version": 3
   },
   "file_extension": ".py",
   "mimetype": "text/x-python",
   "name": "python",
   "nbconvert_exporter": "python",
   "pygments_lexer": "ipython3",
   "version": "3.12.7"
  }
 },
 "nbformat": 4,
 "nbformat_minor": 5
}
